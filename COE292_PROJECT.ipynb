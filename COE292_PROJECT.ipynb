{
  "cells": [
    {
      "cell_type": "markdown",
      "metadata": {
        "id": "view-in-github",
        "colab_type": "text"
      },
      "source": [
        "<a href=\"https://colab.research.google.com/github/DenaAlharbi/COE292-PROJECT/blob/main/COE292_PROJECT.ipynb\" target=\"_parent\"><img src=\"https://colab.research.google.com/assets/colab-badge.svg\" alt=\"Open In Colab\"/></a>"
      ]
    },
    {
      "cell_type": "markdown",
      "metadata": {
        "id": "gMJ881-_mtWf"
      },
      "source": [
        "#                                               COE292 Term 242 Project : Advanced IoT Agriculture"
      ]
    },
    {
      "cell_type": "markdown",
      "metadata": {
        "id": "xs0GWnbHcC3W"
      },
      "source": [
        "**Group No. 1**\n",
        "\n",
        "**Section**: F02\n",
        "\n",
        "**Group Members:**\n",
        "\n",
        "| Group member name          |\n",
        "| :------------------- |\n",
        "| Shahad Alshamrani         |\n",
        "| Dena Alharbi            |\n",
        "| Farah          |\n",
        "| Mariam\n",
        "| Fatemah Almarhoon            |"
      ]
    },
    {
      "cell_type": "markdown",
      "metadata": {
        "id": "DymKoamYcmUR"
      },
      "source": [
        "#### Contributions:         \n",
        "\n",
        "|names         |Percentage of work                                      |\n",
        "| :------------- | :------------------------------------------------------- |\n",
        "| Shahad         | Percentage of work 20%    |\n",
        "|    Dena Alharbi       | Percentage of work 20%|\n",
        "|Farah| Percentage of work 20%|\n",
        "|Mariam | Percentage of work 20%  |\n",
        "| Fatemah |Percentage of work 20%   |\n",
        "\n",
        "---"
      ]
    },
    {
      "cell_type": "markdown",
      "metadata": {
        "id": "a7k8ZS_7c0TY"
      },
      "source": [
        "\n",
        "\n",
        "\n",
        "#Summary of Classifocation Problem\n",
        "\n"
      ]
    },
    {
      "cell_type": "markdown",
      "metadata": {
        "id": "K1T6q3xddY3b"
      },
      "source": [
        "Our data is about Advanced IoT Agriculture with 30,000 entries and 14 columns that are taken from a student's master’s thesis research. The data studies the quality of plants that grow in an IoT greenhouse compared to other plants that grow in a traditional greenhouse, then classified them into 6 different classes according to some significant features such as:\n",
        "\n",
        "Average of chlorophyll in the plant (ACHP), which has a main role in plants' nutrition by performing photosynthesis process, average root diameter (ARD), which is directly connected to the plants ability to absorb water and nutrients from the soil, and plant height rate (PHR), which is measuring the dynamic growth of the plant over time and directly affected by the plants nutrition.   \n",
        "\n",
        "Since most of our team members are from computer-related majors, we selected this data because it develops a new technological footprint in one of the most important life fields which can enhance automation in smart greenhouses.\n",
        "\n",
        "No doubt it is difficult to classify such problems, especially when we consider the high dimensionality of data gained from containing many columns and the possibility of unexpected environmental external factors impact. However, classifying the data can give meaningful results."
      ]
    },
    {
      "cell_type": "code",
      "execution_count": null,
      "metadata": {
        "id": "74pGPyQeOqKL"
      },
      "outputs": [],
      "source": []
    },
    {
      "cell_type": "code",
      "execution_count": null,
      "metadata": {
        "id": "AS9eqCixD8gw"
      },
      "outputs": [],
      "source": []
    },
    {
      "cell_type": "markdown",
      "metadata": {
        "id": "tL4FtaQac4PN"
      },
      "source": [
        "\n",
        "\n",
        "#Data Exploratory Analysis:"
      ]
    },
    {
      "cell_type": "markdown",
      "metadata": {
        "id": "--9WoSQUdOtG"
      },
      "source": [
        "## what has to be in this section: Dataset and feature manipulation, label explation and data visulization"
      ]
    },
    {
      "cell_type": "markdown",
      "source": [
        "###Label explanation  \n",
        "\n",
        "\n",
        "Short Label explanation/description   \n",
        "\n",
        "1. SA - Plants grown in the IoT greenhouse and have balanced root and vegetative growth.\n",
        "\n",
        "2. SB - Plants grown in the IoT greenhouse that focus on vegetative growth (leaves and stems).\n",
        "\n",
        "3. SC - Plants grown in the IoT greenhouse that focus on root growth.\n",
        "\n",
        "4. TA - Plants grown in the traditional greenhouse with balanced growth but less efficient than SA.\n",
        "\n",
        "5. TB - Plants grown in the traditional greenhouse that focus on vegetative growth.\n",
        "\n",
        "6. TC - Plants grown in the traditional greenhouse that focus on root growth\n",
        "\n"
      ],
      "metadata": {
        "id": "GiRBNtakCIhR"
      }
    },
    {
      "cell_type": "code",
      "execution_count": null,
      "metadata": {
        "colab": {
          "base_uri": "https://localhost:8080/"
        },
        "id": "sAlFXEreoQVj",
        "outputId": "df03abe0-5bc4-48b0-a921-f5373a12cc2b"
      },
      "outputs": [
        {
          "name": "stderr",
          "output_type": "stream",
          "text": [
            "Downloading...\n",
            "From: https://drive.google.com/uc?id=18t_28QoHeSvUkj0KjXASGhgBo3UCKThI\n",
            "To: /content/file.csv\n",
            "100%|██████████| 6.90M/6.90M [00:00<00:00, 47.6MB/s]\n"
          ]
        }
      ],
      "source": [
        "import gdown\n",
        "import pandas as pd\n",
        "import matplotlib.pyplot as plt\n",
        "\n",
        "# URL of the CSV file on Google Drive (direct download link)\n",
        "url = 'https://drive.google.com/uc?id=18t_28QoHeSvUkj0KjXASGhgBo3UCKThI'\n",
        "\n",
        "# Download the CSV file\n",
        "output = 'file.csv'\n",
        "gdown.download(url, output, quiet=False)\n",
        "\n",
        "# Load the CSV file with a different encoding\n",
        "df = pd.read_csv(output, encoding='ISO-8859-1')"
      ]
    },
    {
      "cell_type": "code",
      "execution_count": null,
      "metadata": {
        "colab": {
          "base_uri": "https://localhost:8080/",
          "height": 293
        },
        "id": "o7MaUPycJkA_",
        "outputId": "1f4d7fdb-98ba-4838-dcc5-38301cb01865"
      },
      "outputs": [
        {
          "data": {
            "application/vnd.google.colaboratory.intrinsic+json": {
              "summary": "{\n  \"name\": \"df\",\n  \"rows\": 30000,\n  \"fields\": [\n    {\n      \"column\": \"Random\",\n      \"properties\": {\n        \"dtype\": \"category\",\n        \"num_unique_values\": 3,\n        \"samples\": [\n          \"R1\",\n          \"R2\",\n          \"R3\"\n        ],\n        \"semantic_type\": \"\",\n        \"description\": \"\"\n      }\n    },\n    {\n      \"column\": \" Average  of chlorophyll in the plant (ACHP)\",\n      \"properties\": {\n        \"dtype\": \"number\",\n        \"std\": 4.441682135621476,\n        \"min\": 32.66400434617136,\n        \"max\": 46.43166832989261,\n        \"num_unique_values\": 30000,\n        \"samples\": [\n          36.28018295335272,\n          43.49814649953024,\n          43.47993455992764\n        ],\n        \"semantic_type\": \"\",\n        \"description\": \"\"\n      }\n    },\n    {\n      \"column\": \" Plant height rate (PHR)\",\n      \"properties\": {\n        \"dtype\": \"number\",\n        \"std\": 11.985213386937806,\n        \"min\": 37.02039772213334,\n        \"max\": 77.04061036394403,\n        \"num_unique_values\": 30000,\n        \"samples\": [\n          45.59147874662497,\n          72.47875330593688,\n          72.49043325467467\n        ],\n        \"semantic_type\": \"\",\n        \"description\": \"\"\n      }\n    },\n    {\n      \"column\": \"Average wet weight of the growth vegetative (AWWGV)\",\n      \"properties\": {\n        \"dtype\": \"number\",\n        \"std\": 0.24598861311406728,\n        \"min\": 0.8483507262550198,\n        \"max\": 1.7753825677609825,\n        \"num_unique_values\": 30000,\n        \"samples\": [\n          1.3480258077403775,\n          1.742293952759223,\n          1.737516851170234\n        ],\n        \"semantic_type\": \"\",\n        \"description\": \"\"\n      }\n    },\n    {\n      \"column\": \"Average leaf area of the plant (ALAP)\",\n      \"properties\": {\n        \"dtype\": \"number\",\n        \"std\": 260.71282341995027,\n        \"min\": 658.4882253848642,\n        \"max\": 1751.0316541066345,\n        \"num_unique_values\": 30000,\n        \"samples\": [\n          981.4745406704488,\n          943.6374258007417,\n          943.6347500770366\n        ],\n        \"semantic_type\": \"\",\n        \"description\": \"\"\n      }\n    },\n    {\n      \"column\": \"Average number of plant leaves (ANPL)\",\n      \"properties\": {\n        \"dtype\": \"number\",\n        \"std\": 0.7025372462224722,\n        \"min\": 2.959172548742687,\n        \"max\": 5.037357872996038,\n        \"num_unique_values\": 30000,\n        \"samples\": [\n          3.997594877584524,\n          2.9990958002151245,\n          2.986705260499201\n        ],\n        \"semantic_type\": \"\",\n        \"description\": \"\"\n      }\n    },\n    {\n      \"column\": \"Average root diameter (ARD)\",\n      \"properties\": {\n        \"dtype\": \"number\",\n        \"std\": 2.8827927225346284,\n        \"min\": 11.075736857352034,\n        \"max\": 23.325869609996865,\n        \"num_unique_values\": 30000,\n        \"samples\": [\n          16.991786628391516,\n          13.831570076435646,\n          13.83995584543123\n        ],\n        \"semantic_type\": \"\",\n        \"description\": \"\"\n      }\n    },\n    {\n      \"column\": \" Average dry weight of the root (ADWR)\",\n      \"properties\": {\n        \"dtype\": \"number\",\n        \"std\": 0.4562915883177149,\n        \"min\": 0.2419724994111224,\n        \"max\": 2.1965562065145767,\n        \"num_unique_values\": 30000,\n        \"samples\": [\n          0.7592525513924614,\n          0.5532374011345047,\n          0.5215420583667871\n        ],\n        \"semantic_type\": \"\",\n        \"description\": \"\"\n      }\n    },\n    {\n      \"column\": \" Percentage of dry matter for vegetative growth (PDMVG)\",\n      \"properties\": {\n        \"dtype\": \"number\",\n        \"std\": 9.571090701065788,\n        \"min\": 8.021504995830197,\n        \"max\": 43.660372560991945,\n        \"num_unique_values\": 30000,\n        \"samples\": [\n          31.39307657526224,\n          37.56309290028326,\n          37.57005017435198\n        ],\n        \"semantic_type\": \"\",\n        \"description\": \"\"\n      }\n    },\n    {\n      \"column\": \"Average root length (ARL)\",\n      \"properties\": {\n        \"dtype\": \"number\",\n        \"std\": 2.932830083271277,\n        \"min\": 12.359923727028624,\n        \"max\": 23.25304875717504,\n        \"num_unique_values\": 30000,\n        \"samples\": [\n          17.3425769632646,\n          15.017644460986624,\n          15.013352730423518\n        ],\n        \"semantic_type\": \"\",\n        \"description\": \"\"\n      }\n    },\n    {\n      \"column\": \"Average wet weight of the root (AWWR)\",\n      \"properties\": {\n        \"dtype\": \"number\",\n        \"std\": 1.3619281063432516,\n        \"min\": 1.1267152150032562,\n        \"max\": 6.908922530790839,\n        \"num_unique_values\": 30000,\n        \"samples\": [\n          2.746803196378768,\n          1.5658378989643753,\n          1.5724406433237432\n        ],\n        \"semantic_type\": \"\",\n        \"description\": \"\"\n      }\n    },\n    {\n      \"column\": \" Average dry weight of vegetative plants (ADWV)\",\n      \"properties\": {\n        \"dtype\": \"number\",\n        \"std\": 0.15151573522207817,\n        \"min\": 0.0382096932889574,\n        \"max\": 0.6874701372911625,\n        \"num_unique_values\": 30000,\n        \"samples\": [\n          0.4347678243871595,\n          0.6328772779715673,\n          0.649751192615761\n        ],\n        \"semantic_type\": \"\",\n        \"description\": \"\"\n      }\n    },\n    {\n      \"column\": \"Percentage of dry matter for root growth (PDMRG)\",\n      \"properties\": {\n        \"dtype\": \"number\",\n        \"std\": 7.998132376825838,\n        \"min\": 23.632526799133352,\n        \"max\": 57.672004086115386,\n        \"num_unique_values\": 30000,\n        \"samples\": [\n          27.90867246522477,\n          34.386907762985054,\n          34.40383863891086\n        ],\n        \"semantic_type\": \"\",\n        \"description\": \"\"\n      }\n    },\n    {\n      \"column\": \"Class\",\n      \"properties\": {\n        \"dtype\": \"category\",\n        \"num_unique_values\": 6,\n        \"samples\": [\n          \"SA\",\n          \"SB\",\n          \"TC\"\n        ],\n        \"semantic_type\": \"\",\n        \"description\": \"\"\n      }\n    }\n  ]\n}",
              "type": "dataframe",
              "variable_name": "df"
            },
            "text/html": [
              "\n",
              "  <div id=\"df-6cec11cc-0728-4b4f-bce2-99ee9fc37c00\" class=\"colab-df-container\">\n",
              "    <div>\n",
              "<style scoped>\n",
              "    .dataframe tbody tr th:only-of-type {\n",
              "        vertical-align: middle;\n",
              "    }\n",
              "\n",
              "    .dataframe tbody tr th {\n",
              "        vertical-align: top;\n",
              "    }\n",
              "\n",
              "    .dataframe thead th {\n",
              "        text-align: right;\n",
              "    }\n",
              "</style>\n",
              "<table border=\"1\" class=\"dataframe\">\n",
              "  <thead>\n",
              "    <tr style=\"text-align: right;\">\n",
              "      <th></th>\n",
              "      <th>Random</th>\n",
              "      <th>Average  of chlorophyll in the plant (ACHP)</th>\n",
              "      <th>Plant height rate (PHR)</th>\n",
              "      <th>Average wet weight of the growth vegetative (AWWGV)</th>\n",
              "      <th>Average leaf area of the plant (ALAP)</th>\n",
              "      <th>Average number of plant leaves (ANPL)</th>\n",
              "      <th>Average root diameter (ARD)</th>\n",
              "      <th>Average dry weight of the root (ADWR)</th>\n",
              "      <th>Percentage of dry matter for vegetative growth (PDMVG)</th>\n",
              "      <th>Average root length (ARL)</th>\n",
              "      <th>Average wet weight of the root (AWWR)</th>\n",
              "      <th>Average dry weight of vegetative plants (ADWV)</th>\n",
              "      <th>Percentage of dry matter for root growth (PDMRG)</th>\n",
              "      <th>Class</th>\n",
              "    </tr>\n",
              "  </thead>\n",
              "  <tbody>\n",
              "    <tr>\n",
              "      <th>0</th>\n",
              "      <td>R1</td>\n",
              "      <td>34.533468</td>\n",
              "      <td>54.566983</td>\n",
              "      <td>1.147449</td>\n",
              "      <td>1284.229549</td>\n",
              "      <td>4.999713</td>\n",
              "      <td>16.274918</td>\n",
              "      <td>1.706810</td>\n",
              "      <td>18.399982</td>\n",
              "      <td>19.739037</td>\n",
              "      <td>2.949240</td>\n",
              "      <td>0.209251</td>\n",
              "      <td>57.633906</td>\n",
              "      <td>SA</td>\n",
              "    </tr>\n",
              "    <tr>\n",
              "      <th>1</th>\n",
              "      <td>R1</td>\n",
              "      <td>34.489028</td>\n",
              "      <td>54.567692</td>\n",
              "      <td>1.149530</td>\n",
              "      <td>1284.247744</td>\n",
              "      <td>5.024259</td>\n",
              "      <td>16.269452</td>\n",
              "      <td>1.700930</td>\n",
              "      <td>18.398289</td>\n",
              "      <td>19.758836</td>\n",
              "      <td>2.943137</td>\n",
              "      <td>0.216154</td>\n",
              "      <td>57.633697</td>\n",
              "      <td>SA</td>\n",
              "    </tr>\n",
              "    <tr>\n",
              "      <th>2</th>\n",
              "      <td>R2</td>\n",
              "      <td>33.100405</td>\n",
              "      <td>67.067344</td>\n",
              "      <td>1.104647</td>\n",
              "      <td>1009.208996</td>\n",
              "      <td>5.007652</td>\n",
              "      <td>15.980760</td>\n",
              "      <td>1.185391</td>\n",
              "      <td>19.398789</td>\n",
              "      <td>20.840822</td>\n",
              "      <td>2.861635</td>\n",
              "      <td>0.200113</td>\n",
              "      <td>41.289875</td>\n",
              "      <td>SA</td>\n",
              "    </tr>\n",
              "    <tr>\n",
              "      <th>3</th>\n",
              "      <td>R1</td>\n",
              "      <td>34.498319</td>\n",
              "      <td>54.559049</td>\n",
              "      <td>1.137759</td>\n",
              "      <td>1284.227623</td>\n",
              "      <td>4.991501</td>\n",
              "      <td>16.276710</td>\n",
              "      <td>1.716396</td>\n",
              "      <td>18.413613</td>\n",
              "      <td>19.736098</td>\n",
              "      <td>2.946784</td>\n",
              "      <td>0.223092</td>\n",
              "      <td>57.645661</td>\n",
              "      <td>SA</td>\n",
              "    </tr>\n",
              "    <tr>\n",
              "      <th>4</th>\n",
              "      <td>R3</td>\n",
              "      <td>36.297008</td>\n",
              "      <td>45.588894</td>\n",
              "      <td>1.363205</td>\n",
              "      <td>981.470310</td>\n",
              "      <td>4.003682</td>\n",
              "      <td>16.979894</td>\n",
              "      <td>0.777428</td>\n",
              "      <td>31.423772</td>\n",
              "      <td>17.331894</td>\n",
              "      <td>2.766242</td>\n",
              "      <td>0.424172</td>\n",
              "      <td>27.898619</td>\n",
              "      <td>SA</td>\n",
              "    </tr>\n",
              "  </tbody>\n",
              "</table>\n",
              "</div>\n",
              "    <div class=\"colab-df-buttons\">\n",
              "\n",
              "  <div class=\"colab-df-container\">\n",
              "    <button class=\"colab-df-convert\" onclick=\"convertToInteractive('df-6cec11cc-0728-4b4f-bce2-99ee9fc37c00')\"\n",
              "            title=\"Convert this dataframe to an interactive table.\"\n",
              "            style=\"display:none;\">\n",
              "\n",
              "  <svg xmlns=\"http://www.w3.org/2000/svg\" height=\"24px\" viewBox=\"0 -960 960 960\">\n",
              "    <path d=\"M120-120v-720h720v720H120Zm60-500h600v-160H180v160Zm220 220h160v-160H400v160Zm0 220h160v-160H400v160ZM180-400h160v-160H180v160Zm440 0h160v-160H620v160ZM180-180h160v-160H180v160Zm440 0h160v-160H620v160Z\"/>\n",
              "  </svg>\n",
              "    </button>\n",
              "\n",
              "  <style>\n",
              "    .colab-df-container {\n",
              "      display:flex;\n",
              "      gap: 12px;\n",
              "    }\n",
              "\n",
              "    .colab-df-convert {\n",
              "      background-color: #E8F0FE;\n",
              "      border: none;\n",
              "      border-radius: 50%;\n",
              "      cursor: pointer;\n",
              "      display: none;\n",
              "      fill: #1967D2;\n",
              "      height: 32px;\n",
              "      padding: 0 0 0 0;\n",
              "      width: 32px;\n",
              "    }\n",
              "\n",
              "    .colab-df-convert:hover {\n",
              "      background-color: #E2EBFA;\n",
              "      box-shadow: 0px 1px 2px rgba(60, 64, 67, 0.3), 0px 1px 3px 1px rgba(60, 64, 67, 0.15);\n",
              "      fill: #174EA6;\n",
              "    }\n",
              "\n",
              "    .colab-df-buttons div {\n",
              "      margin-bottom: 4px;\n",
              "    }\n",
              "\n",
              "    [theme=dark] .colab-df-convert {\n",
              "      background-color: #3B4455;\n",
              "      fill: #D2E3FC;\n",
              "    }\n",
              "\n",
              "    [theme=dark] .colab-df-convert:hover {\n",
              "      background-color: #434B5C;\n",
              "      box-shadow: 0px 1px 3px 1px rgba(0, 0, 0, 0.15);\n",
              "      filter: drop-shadow(0px 1px 2px rgba(0, 0, 0, 0.3));\n",
              "      fill: #FFFFFF;\n",
              "    }\n",
              "  </style>\n",
              "\n",
              "    <script>\n",
              "      const buttonEl =\n",
              "        document.querySelector('#df-6cec11cc-0728-4b4f-bce2-99ee9fc37c00 button.colab-df-convert');\n",
              "      buttonEl.style.display =\n",
              "        google.colab.kernel.accessAllowed ? 'block' : 'none';\n",
              "\n",
              "      async function convertToInteractive(key) {\n",
              "        const element = document.querySelector('#df-6cec11cc-0728-4b4f-bce2-99ee9fc37c00');\n",
              "        const dataTable =\n",
              "          await google.colab.kernel.invokeFunction('convertToInteractive',\n",
              "                                                    [key], {});\n",
              "        if (!dataTable) return;\n",
              "\n",
              "        const docLinkHtml = 'Like what you see? Visit the ' +\n",
              "          '<a target=\"_blank\" href=https://colab.research.google.com/notebooks/data_table.ipynb>data table notebook</a>'\n",
              "          + ' to learn more about interactive tables.';\n",
              "        element.innerHTML = '';\n",
              "        dataTable['output_type'] = 'display_data';\n",
              "        await google.colab.output.renderOutput(dataTable, element);\n",
              "        const docLink = document.createElement('div');\n",
              "        docLink.innerHTML = docLinkHtml;\n",
              "        element.appendChild(docLink);\n",
              "      }\n",
              "    </script>\n",
              "  </div>\n",
              "\n",
              "\n",
              "<div id=\"df-5c81be31-598c-4a6a-991b-25cf3a8006e7\">\n",
              "  <button class=\"colab-df-quickchart\" onclick=\"quickchart('df-5c81be31-598c-4a6a-991b-25cf3a8006e7')\"\n",
              "            title=\"Suggest charts\"\n",
              "            style=\"display:none;\">\n",
              "\n",
              "<svg xmlns=\"http://www.w3.org/2000/svg\" height=\"24px\"viewBox=\"0 0 24 24\"\n",
              "     width=\"24px\">\n",
              "    <g>\n",
              "        <path d=\"M19 3H5c-1.1 0-2 .9-2 2v14c0 1.1.9 2 2 2h14c1.1 0 2-.9 2-2V5c0-1.1-.9-2-2-2zM9 17H7v-7h2v7zm4 0h-2V7h2v10zm4 0h-2v-4h2v4z\"/>\n",
              "    </g>\n",
              "</svg>\n",
              "  </button>\n",
              "\n",
              "<style>\n",
              "  .colab-df-quickchart {\n",
              "      --bg-color: #E8F0FE;\n",
              "      --fill-color: #1967D2;\n",
              "      --hover-bg-color: #E2EBFA;\n",
              "      --hover-fill-color: #174EA6;\n",
              "      --disabled-fill-color: #AAA;\n",
              "      --disabled-bg-color: #DDD;\n",
              "  }\n",
              "\n",
              "  [theme=dark] .colab-df-quickchart {\n",
              "      --bg-color: #3B4455;\n",
              "      --fill-color: #D2E3FC;\n",
              "      --hover-bg-color: #434B5C;\n",
              "      --hover-fill-color: #FFFFFF;\n",
              "      --disabled-bg-color: #3B4455;\n",
              "      --disabled-fill-color: #666;\n",
              "  }\n",
              "\n",
              "  .colab-df-quickchart {\n",
              "    background-color: var(--bg-color);\n",
              "    border: none;\n",
              "    border-radius: 50%;\n",
              "    cursor: pointer;\n",
              "    display: none;\n",
              "    fill: var(--fill-color);\n",
              "    height: 32px;\n",
              "    padding: 0;\n",
              "    width: 32px;\n",
              "  }\n",
              "\n",
              "  .colab-df-quickchart:hover {\n",
              "    background-color: var(--hover-bg-color);\n",
              "    box-shadow: 0 1px 2px rgba(60, 64, 67, 0.3), 0 1px 3px 1px rgba(60, 64, 67, 0.15);\n",
              "    fill: var(--button-hover-fill-color);\n",
              "  }\n",
              "\n",
              "  .colab-df-quickchart-complete:disabled,\n",
              "  .colab-df-quickchart-complete:disabled:hover {\n",
              "    background-color: var(--disabled-bg-color);\n",
              "    fill: var(--disabled-fill-color);\n",
              "    box-shadow: none;\n",
              "  }\n",
              "\n",
              "  .colab-df-spinner {\n",
              "    border: 2px solid var(--fill-color);\n",
              "    border-color: transparent;\n",
              "    border-bottom-color: var(--fill-color);\n",
              "    animation:\n",
              "      spin 1s steps(1) infinite;\n",
              "  }\n",
              "\n",
              "  @keyframes spin {\n",
              "    0% {\n",
              "      border-color: transparent;\n",
              "      border-bottom-color: var(--fill-color);\n",
              "      border-left-color: var(--fill-color);\n",
              "    }\n",
              "    20% {\n",
              "      border-color: transparent;\n",
              "      border-left-color: var(--fill-color);\n",
              "      border-top-color: var(--fill-color);\n",
              "    }\n",
              "    30% {\n",
              "      border-color: transparent;\n",
              "      border-left-color: var(--fill-color);\n",
              "      border-top-color: var(--fill-color);\n",
              "      border-right-color: var(--fill-color);\n",
              "    }\n",
              "    40% {\n",
              "      border-color: transparent;\n",
              "      border-right-color: var(--fill-color);\n",
              "      border-top-color: var(--fill-color);\n",
              "    }\n",
              "    60% {\n",
              "      border-color: transparent;\n",
              "      border-right-color: var(--fill-color);\n",
              "    }\n",
              "    80% {\n",
              "      border-color: transparent;\n",
              "      border-right-color: var(--fill-color);\n",
              "      border-bottom-color: var(--fill-color);\n",
              "    }\n",
              "    90% {\n",
              "      border-color: transparent;\n",
              "      border-bottom-color: var(--fill-color);\n",
              "    }\n",
              "  }\n",
              "</style>\n",
              "\n",
              "  <script>\n",
              "    async function quickchart(key) {\n",
              "      const quickchartButtonEl =\n",
              "        document.querySelector('#' + key + ' button');\n",
              "      quickchartButtonEl.disabled = true;  // To prevent multiple clicks.\n",
              "      quickchartButtonEl.classList.add('colab-df-spinner');\n",
              "      try {\n",
              "        const charts = await google.colab.kernel.invokeFunction(\n",
              "            'suggestCharts', [key], {});\n",
              "      } catch (error) {\n",
              "        console.error('Error during call to suggestCharts:', error);\n",
              "      }\n",
              "      quickchartButtonEl.classList.remove('colab-df-spinner');\n",
              "      quickchartButtonEl.classList.add('colab-df-quickchart-complete');\n",
              "    }\n",
              "    (() => {\n",
              "      let quickchartButtonEl =\n",
              "        document.querySelector('#df-5c81be31-598c-4a6a-991b-25cf3a8006e7 button');\n",
              "      quickchartButtonEl.style.display =\n",
              "        google.colab.kernel.accessAllowed ? 'block' : 'none';\n",
              "    })();\n",
              "  </script>\n",
              "</div>\n",
              "\n",
              "    </div>\n",
              "  </div>\n"
            ],
            "text/plain": [
              "  Random   Average  of chlorophyll in the plant (ACHP)  \\\n",
              "0     R1                                     34.533468   \n",
              "1     R1                                     34.489028   \n",
              "2     R2                                     33.100405   \n",
              "3     R1                                     34.498319   \n",
              "4     R3                                     36.297008   \n",
              "\n",
              "    Plant height rate (PHR)  \\\n",
              "0                 54.566983   \n",
              "1                 54.567692   \n",
              "2                 67.067344   \n",
              "3                 54.559049   \n",
              "4                 45.588894   \n",
              "\n",
              "   Average wet weight of the growth vegetative (AWWGV)  \\\n",
              "0                                           1.147449     \n",
              "1                                           1.149530     \n",
              "2                                           1.104647     \n",
              "3                                           1.137759     \n",
              "4                                           1.363205     \n",
              "\n",
              "   Average leaf area of the plant (ALAP)  \\\n",
              "0                            1284.229549   \n",
              "1                            1284.247744   \n",
              "2                            1009.208996   \n",
              "3                            1284.227623   \n",
              "4                             981.470310   \n",
              "\n",
              "   Average number of plant leaves (ANPL)  Average root diameter (ARD)  \\\n",
              "0                               4.999713                    16.274918   \n",
              "1                               5.024259                    16.269452   \n",
              "2                               5.007652                    15.980760   \n",
              "3                               4.991501                    16.276710   \n",
              "4                               4.003682                    16.979894   \n",
              "\n",
              "    Average dry weight of the root (ADWR)  \\\n",
              "0                                1.706810   \n",
              "1                                1.700930   \n",
              "2                                1.185391   \n",
              "3                                1.716396   \n",
              "4                                0.777428   \n",
              "\n",
              "    Percentage of dry matter for vegetative growth (PDMVG)  \\\n",
              "0                                          18.399982         \n",
              "1                                          18.398289         \n",
              "2                                          19.398789         \n",
              "3                                          18.413613         \n",
              "4                                          31.423772         \n",
              "\n",
              "   Average root length (ARL)  Average wet weight of the root (AWWR)  \\\n",
              "0                  19.739037                               2.949240   \n",
              "1                  19.758836                               2.943137   \n",
              "2                  20.840822                               2.861635   \n",
              "3                  19.736098                               2.946784   \n",
              "4                  17.331894                               2.766242   \n",
              "\n",
              "    Average dry weight of vegetative plants (ADWV)  \\\n",
              "0                                         0.209251   \n",
              "1                                         0.216154   \n",
              "2                                         0.200113   \n",
              "3                                         0.223092   \n",
              "4                                         0.424172   \n",
              "\n",
              "   Percentage of dry matter for root growth (PDMRG) Class  \n",
              "0                                         57.633906    SA  \n",
              "1                                         57.633697    SA  \n",
              "2                                         41.289875    SA  \n",
              "3                                         57.645661    SA  \n",
              "4                                         27.898619    SA  "
            ]
          },
          "execution_count": 2,
          "metadata": {},
          "output_type": "execute_result"
        }
      ],
      "source": [
        "df.head(5)"
      ]
    },
    {
      "cell_type": "code",
      "execution_count": null,
      "metadata": {
        "colab": {
          "base_uri": "https://localhost:8080/"
        },
        "id": "I2sWCHGkDsaI",
        "outputId": "7b0dade2-1c79-4c4e-dd48-1527ae36185f"
      },
      "outputs": [
        {
          "name": "stdout",
          "output_type": "stream",
          "text": [
            "Original Columns:\n",
            "Renamed Columns:\n",
            "  Identifier  Avg_Chlorophyll  Plant_Height_Rate  Avg_Wet_Weight_Veg  \\\n",
            "0         R1        34.533468          54.566983            1.147449   \n",
            "1         R1        34.489028          54.567692            1.149530   \n",
            "2         R2        33.100405          67.067344            1.104647   \n",
            "3         R1        34.498319          54.559049            1.137759   \n",
            "4         R3        36.297008          45.588894            1.363205   \n",
            "\n",
            "   Avg_Leaf_Area  Avg_Num_Leaves  Avg_Root_Diameter  Avg_Dry_Weight_Root  \\\n",
            "0    1284.229549        4.999713          16.274918             1.706810   \n",
            "1    1284.247744        5.024259          16.269452             1.700930   \n",
            "2    1009.208996        5.007652          15.980760             1.185391   \n",
            "3    1284.227623        4.991501          16.276710             1.716396   \n",
            "4     981.470310        4.003682          16.979894             0.777428   \n",
            "\n",
            "   Perc_Dry_Matter_Veg  Avg_Root_Length  Avg_Wet_Weight_Root  \\\n",
            "0            18.399982        19.739037             2.949240   \n",
            "1            18.398289        19.758836             2.943137   \n",
            "2            19.398789        20.840822             2.861635   \n",
            "3            18.413613        19.736098             2.946784   \n",
            "4            31.423772        17.331894             2.766242   \n",
            "\n",
            "   Avg_Dry_Weight_Veg  Perc_Dry_Matter_Root Class  \n",
            "0            0.209251             57.633906    SA  \n",
            "1            0.216154             57.633697    SA  \n",
            "2            0.200113             41.289875    SA  \n",
            "3            0.223092             57.645661    SA  \n",
            "4            0.424172             27.898619    SA  \n"
          ]
        }
      ],
      "source": [
        "# Display the first few rows of the dataset to verify\n",
        "print(\"Original Columns:\")\n",
        "df.head(5)\n",
        "# Strip leading/trailing spaces from original column names\n",
        "df.columns = df.columns.str.strip()\n",
        "\n",
        "# Dictionary to map old column names to new column names\n",
        "column_rename_map = {\n",
        "    'Random': 'Identifier',\n",
        "    'Average  of chlorophyll in the plant (ACHP)': 'Avg_Chlorophyll',\n",
        "    'Plant height rate (PHR)': 'Plant_Height_Rate',\n",
        "    'Average wet weight of the growth vegetative (AWWGV)': 'Avg_Wet_Weight_Veg',\n",
        "    'Average leaf area of the plant (ALAP)': 'Avg_Leaf_Area',\n",
        "    'Average number of plant leaves (ANPL)': 'Avg_Num_Leaves',\n",
        "    'Average root diameter (ARD)': 'Avg_Root_Diameter',\n",
        "    'Average dry weight of the root (ADWR)': 'Avg_Dry_Weight_Root',\n",
        "    'Percentage of dry matter for vegetative growth (PDMVG)': 'Perc_Dry_Matter_Veg',\n",
        "    'Average root length (ARL)': 'Avg_Root_Length',\n",
        "    'Average wet weight of the root (AWWR)': 'Avg_Wet_Weight_Root',\n",
        "    'Average dry weight of vegetative plants (ADWV)': 'Avg_Dry_Weight_Veg',\n",
        "    'Percentage of dry matter for root growth (PDMRG)': 'Perc_Dry_Matter_Root',\n",
        "    'Class': 'Class'\n",
        "}\n",
        "\n",
        "# Rename the columns\n",
        "df.rename(columns=column_rename_map, inplace=True)\n",
        "\n",
        "# Display the first few rows of the dataset with new column names to verify\n",
        "print(\"Renamed Columns:\")\n",
        "print(df.head())\n",
        "\n",
        "# Save the updated dataset (optional)\n",
        "df.to_csv(output, index=False)"
      ]
    },
    {
      "cell_type": "code",
      "execution_count": null,
      "metadata": {
        "colab": {
          "base_uri": "https://localhost:8080/",
          "height": 1000
        },
        "id": "v2LUJelFJEEz",
        "outputId": "fe2da253-be4d-4b8a-bf72-7ff6656f3823"
      },
      "outputs": [
        {
          "name": "stdout",
          "output_type": "stream",
          "text": [
            "Summary before removing outliers:\n",
            "       Avg_Chlorophyll  Plant_Height_Rate  Avg_Wet_Weight_Veg  Avg_Leaf_Area  \\\n",
            "count     30000.000000       30000.000000        30000.000000   30000.000000   \n",
            "mean         38.060575          59.020331            1.247257    1063.639833   \n",
            "std           4.441682          11.985213            0.245989     260.712823   \n",
            "min          32.664004          37.020398            0.848351     658.488225   \n",
            "25%          34.399604          51.059436            1.064865     875.501356   \n",
            "50%          36.575753          55.912058            1.211328    1009.249081   \n",
            "75%          42.300836          67.069465            1.501692    1243.866525   \n",
            "max          46.431668          77.040610            1.775383    1751.031654   \n",
            "\n",
            "       Avg_Num_Leaves  Avg_Root_Diameter  Avg_Dry_Weight_Root  \\\n",
            "count    30000.000000       30000.000000         30000.000000   \n",
            "mean         3.944789          16.285792             1.000981   \n",
            "std          0.702537           2.882793             0.456292   \n",
            "min          2.959173          11.075737             0.241972   \n",
            "25%          3.013099          13.933350             0.675892   \n",
            "50%          3.998577          16.248496             0.833799   \n",
            "75%          4.015829          18.202577             1.313504   \n",
            "max          5.037358          23.325870             2.196556   \n",
            "\n",
            "       Perc_Dry_Matter_Veg  Avg_Root_Length  Avg_Wet_Weight_Root  \\\n",
            "count         30000.000000     30000.000000         30000.000000   \n",
            "mean             22.674553        18.071061             2.907011   \n",
            "std               9.571091         2.932830             1.361928   \n",
            "min               8.021505        12.359924             1.126715   \n",
            "25%              14.980983        15.600294             1.911408   \n",
            "50%              21.954006        18.477019             2.818611   \n",
            "75%              27.711471        20.365252             3.254133   \n",
            "max              43.660373        23.253049             6.908923   \n",
            "\n",
            "       Avg_Dry_Weight_Veg  Perc_Dry_Matter_Root  \n",
            "count        30000.000000          30000.000000  \n",
            "mean             0.292094             34.922184  \n",
            "std              0.151516              7.998132  \n",
            "min              0.038210             23.632527  \n",
            "25%              0.185512             28.650713  \n",
            "50%              0.246454             33.372665  \n",
            "75%              0.407858             39.137224  \n",
            "max              0.687470             57.672004  \n",
            "  Identifier  Avg_Chlorophyll  Plant_Height_Rate  Avg_Wet_Weight_Veg  \\\n",
            "0         R1        34.533468          54.566983            1.147449   \n",
            "1         R1        34.489028          54.567692            1.149530   \n",
            "2         R2        33.100405          67.067344            1.104647   \n",
            "3         R1        34.498319          54.559049            1.137759   \n",
            "4         R3        36.297008          45.588894            1.363205   \n",
            "\n",
            "   Avg_Num_Leaves  Avg_Root_Diameter  Avg_Dry_Weight_Root  \\\n",
            "0        4.999713          16.274918             1.706810   \n",
            "1        5.024259          16.269452             1.700930   \n",
            "2        5.007652          15.980760             1.185391   \n",
            "3        4.991501          16.276710             1.716396   \n",
            "4        4.003682          16.979894             0.777428   \n",
            "\n",
            "   Perc_Dry_Matter_Veg  Avg_Root_Length  Avg_Wet_Weight_Root  \\\n",
            "0            18.399982        19.739037             2.949240   \n",
            "1            18.398289        19.758836             2.943137   \n",
            "2            19.398789        20.840822             2.861635   \n",
            "3            18.413613        19.736098             2.946784   \n",
            "4            31.423772        17.331894             2.766242   \n",
            "\n",
            "   Avg_Dry_Weight_Veg  Perc_Dry_Matter_Root Class  \n",
            "0            0.209251             57.633906    SA  \n",
            "1            0.216154             57.633697    SA  \n",
            "2            0.200113             41.289875    SA  \n",
            "3            0.223092             57.645661    SA  \n",
            "4            0.424172             27.898619    SA  \n",
            "Summary before removing outliers:\n",
            "       Avg_Chlorophyll  Plant_Height_Rate  Avg_Wet_Weight_Veg  Avg_Num_Leaves  \\\n",
            "count     30000.000000       30000.000000        30000.000000    30000.000000   \n",
            "mean         38.060575          59.020331            1.247257        3.944789   \n",
            "std           4.441682          11.985213            0.245989        0.702537   \n",
            "min          32.664004          37.020398            0.848351        2.959173   \n",
            "25%          34.399604          51.059436            1.064865        3.013099   \n",
            "50%          36.575753          55.912058            1.211328        3.998577   \n",
            "75%          42.300836          67.069465            1.501692        4.015829   \n",
            "max          46.431668          77.040610            1.775383        5.037358   \n",
            "\n",
            "       Avg_Root_Diameter  Avg_Dry_Weight_Root  Perc_Dry_Matter_Veg  \\\n",
            "count       30000.000000         30000.000000         30000.000000   \n",
            "mean           16.285792             1.000981            22.674553   \n",
            "std             2.882793             0.456292             9.571091   \n",
            "min            11.075737             0.241972             8.021505   \n",
            "25%            13.933350             0.675892            14.980983   \n",
            "50%            16.248496             0.833799            21.954006   \n",
            "75%            18.202577             1.313504            27.711471   \n",
            "max            23.325870             2.196556            43.660373   \n",
            "\n",
            "       Avg_Root_Length  Avg_Wet_Weight_Root  Avg_Dry_Weight_Veg  \\\n",
            "count     30000.000000         30000.000000        30000.000000   \n",
            "mean         18.071061             2.907011            0.292094   \n",
            "std           2.932830             1.361928            0.151516   \n",
            "min          12.359924             1.126715            0.038210   \n",
            "25%          15.600294             1.911408            0.185512   \n",
            "50%          18.477019             2.818611            0.246454   \n",
            "75%          20.365252             3.254133            0.407858   \n",
            "max          23.253049             6.908923            0.687470   \n",
            "\n",
            "       Perc_Dry_Matter_Root  \n",
            "count          30000.000000  \n",
            "mean              34.922184  \n",
            "std                7.998132  \n",
            "min               23.632527  \n",
            "25%               28.650713  \n",
            "50%               33.372665  \n",
            "75%               39.137224  \n",
            "max               57.672004  \n"
          ]
        },
        {
          "data": {
            "image/png": "[encoded data removed]",
            "text/plain": [
              "<Figure size 2000x800 with 1 Axes>"
            ]
          },
          "metadata": {},
          "output_type": "display_data"
        }
      ],
      "source": [
        "import numpy as np\n",
        "# Display the DataFrame summary before removing outliers\n",
        "print(\"Summary before removing outliers:\")\n",
        "print(df.describe())\n",
        "\n",
        "\n",
        "# Step 1: Save a copy of the column before deleting it\n",
        "deleted_column_backup = df['Avg_Leaf_Area'].copy()\n",
        "\n",
        "# Step 2: Delete the column from the DataFrame\n",
        "df.drop('Avg_Leaf_Area', axis=1, inplace=True)\n",
        "\n",
        "# At this point, the 'DeletedColumn' has been removed from the DataFrame\n",
        "\n",
        "\n",
        "# Display the DataFrame to verify that the column has been re-added\n",
        "print(df.head())\n",
        "\n",
        "def remove_outliers(df, columns):\n",
        "    for i, col in enumerate(columns):\n",
        "\n",
        "        Q1 = df[col].quantile(0.25)\n",
        "        Q3 = df[col].quantile(0.75)\n",
        "        IQR = Q3 - Q1\n",
        "        lower_bound = Q1 - 1.5 * IQR\n",
        "        upper_bound = Q3 + 1.5 * IQR\n",
        "\n",
        "        # Filtering out the outliers\n",
        "        df = df[(df[col] >= lower_bound) & (df[col] <= upper_bound)]\n",
        "    return df\n",
        "\n",
        "# Handle outliers using Z-score method\n",
        "def remove_outliers_zscore(df, columns, threshold=3):\n",
        "    for col in columns:\n",
        "        z_scores = np.abs((df[col] - df[col].mean()) / df[col].std())\n",
        "        df = df[z_scores < threshold]\n",
        "    return df\n",
        "\n",
        "# Columns to check for outliers\n",
        "num_columns = df.select_dtypes(include=['float64']).columns\n",
        "\n",
        "# Summary of DataFrame before removing outliers\n",
        "print(\"Summary before removing outliers:\")\n",
        "print(df.describe())\n",
        "\n",
        "# Plotting boxplots before removing outliers\n",
        "plt.figure(figsize=(20, 8))\n",
        "df[num_columns].boxplot()\n",
        "plt.title(\"Boxplots before removing outliers\")\n",
        "plt.show()"
      ]
    },
    {
      "cell_type": "code",
      "execution_count": null,
      "metadata": {
        "colab": {
          "base_uri": "https://localhost:8080/",
          "height": 1000
        },
        "id": "Oo5c32lRJc4e",
        "outputId": "5737d603-c8c6-4c52-e504-957fbdc7ccdd"
      },
      "outputs": [
        {
          "name": "stdout",
          "output_type": "stream",
          "text": [
            "Summary after removing outliers:\n",
            "       Avg_Chlorophyll  Plant_Height_Rate  Avg_Wet_Weight_Veg  Avg_Num_Leaves  \\\n",
            "count     26727.000000       26727.000000        26727.000000    26727.000000   \n",
            "mean         38.429628          58.842719            1.236930        3.815586   \n",
            "std           4.567177          12.514776            0.250882        0.633225   \n",
            "min          32.664004          37.020398            0.848351        2.959173   \n",
            "25%          34.372190          50.864478            1.047548        3.008681   \n",
            "50%          36.599906          55.912951            1.216429        3.995729   \n",
            "75%          42.331026          67.089910            1.385139        4.007665   \n",
            "max          46.431668          77.040610            1.775383        5.029713   \n",
            "\n",
            "       Avg_Root_Diameter  Avg_Dry_Weight_Root  Perc_Dry_Matter_Veg  \\\n",
            "count       26727.000000         26727.000000         26727.000000   \n",
            "mean           15.859965             0.886843            23.243725   \n",
            "std             2.481964             0.328461             9.991865   \n",
            "min            11.075737             0.241972             8.021505   \n",
            "25%            13.909700             0.660838            14.957839   \n",
            "50%            15.941346             0.795042            22.086686   \n",
            "75%            17.830836             1.204519            31.387516   \n",
            "max            20.271423             1.453775            43.660373   \n",
            "\n",
            "       Avg_Root_Length  Avg_Wet_Weight_Root  Avg_Dry_Weight_Veg  \\\n",
            "count     26727.000000         26727.000000        26727.000000   \n",
            "mean         17.655131             2.662131            0.298561   \n",
            "std           2.774401             1.030878            0.158996   \n",
            "min          12.359924             1.126715            0.038210   \n",
            "25%          15.574429             1.888245            0.173660   \n",
            "50%          17.461249             2.782466            0.280345   \n",
            "75%          19.411531             3.212531            0.418077   \n",
            "max          22.584354             4.775847            0.687470   \n",
            "\n",
            "       Perc_Dry_Matter_Root  \n",
            "count          26727.000000  \n",
            "mean              33.734312  \n",
            "std                6.155509  \n",
            "min               23.632527  \n",
            "25%               27.937687  \n",
            "50%               33.369343  \n",
            "75%               39.116987  \n",
            "max               46.578060  \n"
          ]
        },
        {
          "data": {
            "image/png": "[encoded data removed]",
            "text/plain": [
              "<Figure size 1000x500 with 1 Axes>"
            ]
          },
          "metadata": {},
          "output_type": "display_data"
        },
        {
          "name": "stdout",
          "output_type": "stream",
          "text": [
            "Number of rows before cleaning: 30000\n",
            "Number of rows after cleaning: 26727\n"
          ]
        }
      ],
      "source": [
        "# Removing outliers\n",
        "df_cleaned = remove_outliers(df, num_columns)\n",
        "\n",
        "# Summary of DataFrame after removing outliers\n",
        "print(\"Summary after removing outliers:\")\n",
        "print(df_cleaned.describe())\n",
        "\n",
        "# Plotting boxplots after removing outliers\n",
        "plt.figure(figsize=(10, 5))\n",
        "df_cleaned[num_columns].boxplot()\n",
        "plt.title(\"Boxplots after removing outliers\")\n",
        "plt.show()\n",
        "\n",
        "# Checking the number of rows before and after cleaning\n",
        "print(f\"Number of rows before cleaning: {len(df)}\")\n",
        "print(f\"Number of rows after cleaning: {len(df_cleaned)}\")\n",
        "df= df_cleaned"
      ]
    },
    {
      "cell_type": "code",
      "execution_count": null,
      "metadata": {
        "colab": {
          "base_uri": "https://localhost:8080/",
          "height": 226
        },
        "id": "U5e7Ej3s-Y8Y",
        "outputId": "c1ca8de3-6e90-4c46-a86d-7c275ba609b5"
      },
      "outputs": [
        {
          "data": {
            "application/vnd.google.colaboratory.intrinsic+json": {
              "summary": "{\n  \"name\": \"df\",\n  \"rows\": 26727,\n  \"fields\": [\n    {\n      \"column\": \"Identifier\",\n      \"properties\": {\n        \"dtype\": \"category\",\n        \"num_unique_values\": 3,\n        \"samples\": [\n          \"R2\",\n          \"R3\",\n          \"R1\"\n        ],\n        \"semantic_type\": \"\",\n        \"description\": \"\"\n      }\n    },\n    {\n      \"column\": \"Avg_Chlorophyll\",\n      \"properties\": {\n        \"dtype\": \"number\",\n        \"std\": 4.567176696346042,\n        \"min\": 32.66400434617136,\n        \"max\": 46.43166832989261,\n        \"num_unique_values\": 26727,\n        \"samples\": [\n          38.59224555792726,\n          45.91706717822277,\n          36.60162907869616\n        ],\n        \"semantic_type\": \"\",\n        \"description\": \"\"\n      }\n    },\n    {\n      \"column\": \"Plant_Height_Rate\",\n      \"properties\": {\n        \"dtype\": \"number\",\n        \"std\": 12.514776046878882,\n        \"min\": 37.02039772213334,\n        \"max\": 77.04061036394403,\n        \"num_unique_values\": 26727,\n        \"samples\": [\n          37.87452164004685,\n          53.03534846123058,\n          76.98980761693102\n        ],\n        \"semantic_type\": \"\",\n        \"description\": \"\"\n      }\n    },\n    {\n      \"column\": \"Avg_Wet_Weight_Veg\",\n      \"properties\": {\n        \"dtype\": \"number\",\n        \"std\": 0.2508816268959124,\n        \"min\": 0.8483507262550198,\n        \"max\": 1.7753825677609825,\n        \"num_unique_values\": 26727,\n        \"samples\": [\n          1.0904721700632394,\n          1.5863949294643955,\n          1.499252816032206\n        ],\n        \"semantic_type\": \"\",\n        \"description\": \"\"\n      }\n    },\n    {\n      \"column\": \"Avg_Num_Leaves\",\n      \"properties\": {\n        \"dtype\": \"number\",\n        \"std\": 0.6332253868576128,\n        \"min\": 2.959172548742687,\n        \"max\": 5.029713027717269,\n        \"num_unique_values\": 26727,\n        \"samples\": [\n          3.984134594719394,\n          3.994695108730578,\n          3.9974762083928495\n        ],\n        \"semantic_type\": \"\",\n        \"description\": \"\"\n      }\n    },\n    {\n      \"column\": \"Avg_Root_Diameter\",\n      \"properties\": {\n        \"dtype\": \"number\",\n        \"std\": 2.481964247590796,\n        \"min\": 11.075736857352034,\n        \"max\": 20.271423443635705,\n        \"num_unique_values\": 26727,\n        \"samples\": [\n          15.73301015144413,\n          14.940466936110646,\n          19.73320079089899\n        ],\n        \"semantic_type\": \"\",\n        \"description\": \"\"\n      }\n    },\n    {\n      \"column\": \"Avg_Dry_Weight_Root\",\n      \"properties\": {\n        \"dtype\": \"number\",\n        \"std\": 0.32846121835247705,\n        \"min\": 0.2419724994111224,\n        \"max\": 1.4537747841643858,\n        \"num_unique_values\": 26727,\n        \"samples\": [\n          1.2185730789064486,\n          0.8134073436554531,\n          1.4344677746746606\n        ],\n        \"semantic_type\": \"\",\n        \"description\": \"\"\n      }\n    },\n    {\n      \"column\": \"Perc_Dry_Matter_Veg\",\n      \"properties\": {\n        \"dtype\": \"number\",\n        \"std\": 9.991865117367588,\n        \"min\": 8.021504995830197,\n        \"max\": 43.660372560991945,\n        \"num_unique_values\": 26727,\n        \"samples\": [\n          11.972536745441134,\n          22.10072258058183,\n          27.09635035369234\n        ],\n        \"semantic_type\": \"\",\n        \"description\": \"\"\n      }\n    },\n    {\n      \"column\": \"Avg_Root_Length\",\n      \"properties\": {\n        \"dtype\": \"number\",\n        \"std\": 2.774401429470103,\n        \"min\": 12.359923727028624,\n        \"max\": 22.58435356286597,\n        \"num_unique_values\": 26727,\n        \"samples\": [\n          19.16272473475813,\n          14.940824692028292,\n          22.5413081089542\n        ],\n        \"semantic_type\": \"\",\n        \"description\": \"\"\n      }\n    },\n    {\n      \"column\": \"Avg_Wet_Weight_Root\",\n      \"properties\": {\n        \"dtype\": \"number\",\n        \"std\": 1.0308778350373606,\n        \"min\": 1.1267152150032562,\n        \"max\": 4.77584670550804,\n        \"num_unique_values\": 26727,\n        \"samples\": [\n          3.16038587662296,\n          2.1203808027096707,\n          4.746732034747854\n        ],\n        \"semantic_type\": \"\",\n        \"description\": \"\"\n      }\n    },\n    {\n      \"column\": \"Avg_Dry_Weight_Veg\",\n      \"properties\": {\n        \"dtype\": \"number\",\n        \"std\": 0.15899574576334607,\n        \"min\": 0.0382096932889574,\n        \"max\": 0.6874701372911625,\n        \"num_unique_values\": 26727,\n        \"samples\": [\n          0.13260451875844,\n          0.3458340818121976,\n          0.4093804632295562\n        ],\n        \"semantic_type\": \"\",\n        \"description\": \"\"\n      }\n    },\n    {\n      \"column\": \"Perc_Dry_Matter_Root\",\n      \"properties\": {\n        \"dtype\": \"number\",\n        \"std\": 6.155508520222223,\n        \"min\": 23.632526799133352,\n        \"max\": 46.57806028500044,\n        \"num_unique_values\": 26727,\n        \"samples\": [\n          39.13523321995316,\n          38.15247844293594,\n          30.043111063844705\n        ],\n        \"semantic_type\": \"\",\n        \"description\": \"\"\n      }\n    },\n    {\n      \"column\": \"Class\",\n      \"properties\": {\n        \"dtype\": \"category\",\n        \"num_unique_values\": 6,\n        \"samples\": [\n          \"SA\",\n          \"SB\",\n          \"TC\"\n        ],\n        \"semantic_type\": \"\",\n        \"description\": \"\"\n      }\n    }\n  ]\n}",
              "type": "dataframe",
              "variable_name": "df"
            },
            "text/html": [
              "\n",
              "  <div id=\"df-05cdea69-50c3-4303-8dfd-a416c6e194e2\" class=\"colab-df-container\">\n",
              "    <div>\n",
              "<style scoped>\n",
              "    .dataframe tbody tr th:only-of-type {\n",
              "        vertical-align: middle;\n",
              "    }\n",
              "\n",
              "    .dataframe tbody tr th {\n",
              "        vertical-align: top;\n",
              "    }\n",
              "\n",
              "    .dataframe thead th {\n",
              "        text-align: right;\n",
              "    }\n",
              "</style>\n",
              "<table border=\"1\" class=\"dataframe\">\n",
              "  <thead>\n",
              "    <tr style=\"text-align: right;\">\n",
              "      <th></th>\n",
              "      <th>Identifier</th>\n",
              "      <th>Avg_Chlorophyll</th>\n",
              "      <th>Plant_Height_Rate</th>\n",
              "      <th>Avg_Wet_Weight_Veg</th>\n",
              "      <th>Avg_Num_Leaves</th>\n",
              "      <th>Avg_Root_Diameter</th>\n",
              "      <th>Avg_Dry_Weight_Root</th>\n",
              "      <th>Perc_Dry_Matter_Veg</th>\n",
              "      <th>Avg_Root_Length</th>\n",
              "      <th>Avg_Wet_Weight_Root</th>\n",
              "      <th>Avg_Dry_Weight_Veg</th>\n",
              "      <th>Perc_Dry_Matter_Root</th>\n",
              "      <th>Class</th>\n",
              "    </tr>\n",
              "  </thead>\n",
              "  <tbody>\n",
              "    <tr>\n",
              "      <th>2</th>\n",
              "      <td>R2</td>\n",
              "      <td>33.100405</td>\n",
              "      <td>67.067344</td>\n",
              "      <td>1.104647</td>\n",
              "      <td>5.007652</td>\n",
              "      <td>15.980760</td>\n",
              "      <td>1.185391</td>\n",
              "      <td>19.398789</td>\n",
              "      <td>20.840822</td>\n",
              "      <td>2.861635</td>\n",
              "      <td>0.200113</td>\n",
              "      <td>41.289875</td>\n",
              "      <td>SA</td>\n",
              "    </tr>\n",
              "    <tr>\n",
              "      <th>4</th>\n",
              "      <td>R3</td>\n",
              "      <td>36.297008</td>\n",
              "      <td>45.588894</td>\n",
              "      <td>1.363205</td>\n",
              "      <td>4.003682</td>\n",
              "      <td>16.979894</td>\n",
              "      <td>0.777428</td>\n",
              "      <td>31.423772</td>\n",
              "      <td>17.331894</td>\n",
              "      <td>2.766242</td>\n",
              "      <td>0.424172</td>\n",
              "      <td>27.898619</td>\n",
              "      <td>SA</td>\n",
              "    </tr>\n",
              "    <tr>\n",
              "      <th>5</th>\n",
              "      <td>R3</td>\n",
              "      <td>36.287722</td>\n",
              "      <td>45.598585</td>\n",
              "      <td>1.353790</td>\n",
              "      <td>3.998621</td>\n",
              "      <td>16.991603</td>\n",
              "      <td>0.760842</td>\n",
              "      <td>31.403639</td>\n",
              "      <td>17.324861</td>\n",
              "      <td>2.745382</td>\n",
              "      <td>0.435148</td>\n",
              "      <td>27.927017</td>\n",
              "      <td>SA</td>\n",
              "    </tr>\n",
              "    <tr>\n",
              "      <th>7</th>\n",
              "      <td>R2</td>\n",
              "      <td>33.105558</td>\n",
              "      <td>67.073406</td>\n",
              "      <td>1.097444</td>\n",
              "      <td>4.991835</td>\n",
              "      <td>15.965588</td>\n",
              "      <td>1.189576</td>\n",
              "      <td>19.407307</td>\n",
              "      <td>20.838177</td>\n",
              "      <td>2.847526</td>\n",
              "      <td>0.216855</td>\n",
              "      <td>41.304762</td>\n",
              "      <td>SA</td>\n",
              "    </tr>\n",
              "    <tr>\n",
              "      <th>8</th>\n",
              "      <td>R2</td>\n",
              "      <td>33.092448</td>\n",
              "      <td>67.061659</td>\n",
              "      <td>1.103098</td>\n",
              "      <td>4.995131</td>\n",
              "      <td>15.964761</td>\n",
              "      <td>1.182838</td>\n",
              "      <td>19.387573</td>\n",
              "      <td>20.824335</td>\n",
              "      <td>2.857965</td>\n",
              "      <td>0.209869</td>\n",
              "      <td>41.318049</td>\n",
              "      <td>SA</td>\n",
              "    </tr>\n",
              "  </tbody>\n",
              "</table>\n",
              "</div>\n",
              "    <div class=\"colab-df-buttons\">\n",
              "\n",
              "  <div class=\"colab-df-container\">\n",
              "    <button class=\"colab-df-convert\" onclick=\"convertToInteractive('df-05cdea69-50c3-4303-8dfd-a416c6e194e2')\"\n",
              "            title=\"Convert this dataframe to an interactive table.\"\n",
              "            style=\"display:none;\">\n",
              "\n",
              "  <svg xmlns=\"http://www.w3.org/2000/svg\" height=\"24px\" viewBox=\"0 -960 960 960\">\n",
              "    <path d=\"M120-120v-720h720v720H120Zm60-500h600v-160H180v160Zm220 220h160v-160H400v160Zm0 220h160v-160H400v160ZM180-400h160v-160H180v160Zm440 0h160v-160H620v160ZM180-180h160v-160H180v160Zm440 0h160v-160H620v160Z\"/>\n",
              "  </svg>\n",
              "    </button>\n",
              "\n",
              "  <style>\n",
              "    .colab-df-container {\n",
              "      display:flex;\n",
              "      gap: 12px;\n",
              "    }\n",
              "\n",
              "    .colab-df-convert {\n",
              "      background-color: #E8F0FE;\n",
              "      border: none;\n",
              "      border-radius: 50%;\n",
              "      cursor: pointer;\n",
              "      display: none;\n",
              "      fill: #1967D2;\n",
              "      height: 32px;\n",
              "      padding: 0 0 0 0;\n",
              "      width: 32px;\n",
              "    }\n",
              "\n",
              "    .colab-df-convert:hover {\n",
              "      background-color: #E2EBFA;\n",
              "      box-shadow: 0px 1px 2px rgba(60, 64, 67, 0.3), 0px 1px 3px 1px rgba(60, 64, 67, 0.15);\n",
              "      fill: #174EA6;\n",
              "    }\n",
              "\n",
              "    .colab-df-buttons div {\n",
              "      margin-bottom: 4px;\n",
              "    }\n",
              "\n",
              "    [theme=dark] .colab-df-convert {\n",
              "      background-color: #3B4455;\n",
              "      fill: #D2E3FC;\n",
              "    }\n",
              "\n",
              "    [theme=dark] .colab-df-convert:hover {\n",
              "      background-color: #434B5C;\n",
              "      box-shadow: 0px 1px 3px 1px rgba(0, 0, 0, 0.15);\n",
              "      filter: drop-shadow(0px 1px 2px rgba(0, 0, 0, 0.3));\n",
              "      fill: #FFFFFF;\n",
              "    }\n",
              "  </style>\n",
              "\n",
              "    <script>\n",
              "      const buttonEl =\n",
              "        document.querySelector('#df-05cdea69-50c3-4303-8dfd-a416c6e194e2 button.colab-df-convert');\n",
              "      buttonEl.style.display =\n",
              "        google.colab.kernel.accessAllowed ? 'block' : 'none';\n",
              "\n",
              "      async function convertToInteractive(key) {\n",
              "        const element = document.querySelector('#df-05cdea69-50c3-4303-8dfd-a416c6e194e2');\n",
              "        const dataTable =\n",
              "          await google.colab.kernel.invokeFunction('convertToInteractive',\n",
              "                                                    [key], {});\n",
              "        if (!dataTable) return;\n",
              "\n",
              "        const docLinkHtml = 'Like what you see? Visit the ' +\n",
              "          '<a target=\"_blank\" href=https://colab.research.google.com/notebooks/data_table.ipynb>data table notebook</a>'\n",
              "          + ' to learn more about interactive tables.';\n",
              "        element.innerHTML = '';\n",
              "        dataTable['output_type'] = 'display_data';\n",
              "        await google.colab.output.renderOutput(dataTable, element);\n",
              "        const docLink = document.createElement('div');\n",
              "        docLink.innerHTML = docLinkHtml;\n",
              "        element.appendChild(docLink);\n",
              "      }\n",
              "    </script>\n",
              "  </div>\n",
              "\n",
              "\n",
              "<div id=\"df-2a475c86-e0fe-4619-a4fd-d27ec9d25d1d\">\n",
              "  <button class=\"colab-df-quickchart\" onclick=\"quickchart('df-2a475c86-e0fe-4619-a4fd-d27ec9d25d1d')\"\n",
              "            title=\"Suggest charts\"\n",
              "            style=\"display:none;\">\n",
              "\n",
              "<svg xmlns=\"http://www.w3.org/2000/svg\" height=\"24px\"viewBox=\"0 0 24 24\"\n",
              "     width=\"24px\">\n",
              "    <g>\n",
              "        <path d=\"M19 3H5c-1.1 0-2 .9-2 2v14c0 1.1.9 2 2 2h14c1.1 0 2-.9 2-2V5c0-1.1-.9-2-2-2zM9 17H7v-7h2v7zm4 0h-2V7h2v10zm4 0h-2v-4h2v4z\"/>\n",
              "    </g>\n",
              "</svg>\n",
              "  </button>\n",
              "\n",
              "<style>\n",
              "  .colab-df-quickchart {\n",
              "      --bg-color: #E8F0FE;\n",
              "      --fill-color: #1967D2;\n",
              "      --hover-bg-color: #E2EBFA;\n",
              "      --hover-fill-color: #174EA6;\n",
              "      --disabled-fill-color: #AAA;\n",
              "      --disabled-bg-color: #DDD;\n",
              "  }\n",
              "\n",
              "  [theme=dark] .colab-df-quickchart {\n",
              "      --bg-color: #3B4455;\n",
              "      --fill-color: #D2E3FC;\n",
              "      --hover-bg-color: #434B5C;\n",
              "      --hover-fill-color: #FFFFFF;\n",
              "      --disabled-bg-color: #3B4455;\n",
              "      --disabled-fill-color: #666;\n",
              "  }\n",
              "\n",
              "  .colab-df-quickchart {\n",
              "    background-color: var(--bg-color);\n",
              "    border: none;\n",
              "    border-radius: 50%;\n",
              "    cursor: pointer;\n",
              "    display: none;\n",
              "    fill: var(--fill-color);\n",
              "    height: 32px;\n",
              "    padding: 0;\n",
              "    width: 32px;\n",
              "  }\n",
              "\n",
              "  .colab-df-quickchart:hover {\n",
              "    background-color: var(--hover-bg-color);\n",
              "    box-shadow: 0 1px 2px rgba(60, 64, 67, 0.3), 0 1px 3px 1px rgba(60, 64, 67, 0.15);\n",
              "    fill: var(--button-hover-fill-color);\n",
              "  }\n",
              "\n",
              "  .colab-df-quickchart-complete:disabled,\n",
              "  .colab-df-quickchart-complete:disabled:hover {\n",
              "    background-color: var(--disabled-bg-color);\n",
              "    fill: var(--disabled-fill-color);\n",
              "    box-shadow: none;\n",
              "  }\n",
              "\n",
              "  .colab-df-spinner {\n",
              "    border: 2px solid var(--fill-color);\n",
              "    border-color: transparent;\n",
              "    border-bottom-color: var(--fill-color);\n",
              "    animation:\n",
              "      spin 1s steps(1) infinite;\n",
              "  }\n",
              "\n",
              "  @keyframes spin {\n",
              "    0% {\n",
              "      border-color: transparent;\n",
              "      border-bottom-color: var(--fill-color);\n",
              "      border-left-color: var(--fill-color);\n",
              "    }\n",
              "    20% {\n",
              "      border-color: transparent;\n",
              "      border-left-color: var(--fill-color);\n",
              "      border-top-color: var(--fill-color);\n",
              "    }\n",
              "    30% {\n",
              "      border-color: transparent;\n",
              "      border-left-color: var(--fill-color);\n",
              "      border-top-color: var(--fill-color);\n",
              "      border-right-color: var(--fill-color);\n",
              "    }\n",
              "    40% {\n",
              "      border-color: transparent;\n",
              "      border-right-color: var(--fill-color);\n",
              "      border-top-color: var(--fill-color);\n",
              "    }\n",
              "    60% {\n",
              "      border-color: transparent;\n",
              "      border-right-color: var(--fill-color);\n",
              "    }\n",
              "    80% {\n",
              "      border-color: transparent;\n",
              "      border-right-color: var(--fill-color);\n",
              "      border-bottom-color: var(--fill-color);\n",
              "    }\n",
              "    90% {\n",
              "      border-color: transparent;\n",
              "      border-bottom-color: var(--fill-color);\n",
              "    }\n",
              "  }\n",
              "</style>\n",
              "\n",
              "  <script>\n",
              "    async function quickchart(key) {\n",
              "      const quickchartButtonEl =\n",
              "        document.querySelector('#' + key + ' button');\n",
              "      quickchartButtonEl.disabled = true;  // To prevent multiple clicks.\n",
              "      quickchartButtonEl.classList.add('colab-df-spinner');\n",
              "      try {\n",
              "        const charts = await google.colab.kernel.invokeFunction(\n",
              "            'suggestCharts', [key], {});\n",
              "      } catch (error) {\n",
              "        console.error('Error during call to suggestCharts:', error);\n",
              "      }\n",
              "      quickchartButtonEl.classList.remove('colab-df-spinner');\n",
              "      quickchartButtonEl.classList.add('colab-df-quickchart-complete');\n",
              "    }\n",
              "    (() => {\n",
              "      let quickchartButtonEl =\n",
              "        document.querySelector('#df-2a475c86-e0fe-4619-a4fd-d27ec9d25d1d button');\n",
              "      quickchartButtonEl.style.display =\n",
              "        google.colab.kernel.accessAllowed ? 'block' : 'none';\n",
              "    })();\n",
              "  </script>\n",
              "</div>\n",
              "\n",
              "    </div>\n",
              "  </div>\n"
            ],
            "text/plain": [
              "  Identifier  Avg_Chlorophyll  Plant_Height_Rate  Avg_Wet_Weight_Veg  \\\n",
              "2         R2        33.100405          67.067344            1.104647   \n",
              "4         R3        36.297008          45.588894            1.363205   \n",
              "5         R3        36.287722          45.598585            1.353790   \n",
              "7         R2        33.105558          67.073406            1.097444   \n",
              "8         R2        33.092448          67.061659            1.103098   \n",
              "\n",
              "   Avg_Num_Leaves  Avg_Root_Diameter  Avg_Dry_Weight_Root  \\\n",
              "2        5.007652          15.980760             1.185391   \n",
              "4        4.003682          16.979894             0.777428   \n",
              "5        3.998621          16.991603             0.760842   \n",
              "7        4.991835          15.965588             1.189576   \n",
              "8        4.995131          15.964761             1.182838   \n",
              "\n",
              "   Perc_Dry_Matter_Veg  Avg_Root_Length  Avg_Wet_Weight_Root  \\\n",
              "2            19.398789        20.840822             2.861635   \n",
              "4            31.423772        17.331894             2.766242   \n",
              "5            31.403639        17.324861             2.745382   \n",
              "7            19.407307        20.838177             2.847526   \n",
              "8            19.387573        20.824335             2.857965   \n",
              "\n",
              "   Avg_Dry_Weight_Veg  Perc_Dry_Matter_Root Class  \n",
              "2            0.200113             41.289875    SA  \n",
              "4            0.424172             27.898619    SA  \n",
              "5            0.435148             27.927017    SA  \n",
              "7            0.216855             41.304762    SA  \n",
              "8            0.209869             41.318049    SA  "
            ]
          },
          "execution_count": 6,
          "metadata": {},
          "output_type": "execute_result"
        }
      ],
      "source": [
        "df.head(5)"
      ]
    },
    {
      "cell_type": "code",
      "execution_count": null,
      "metadata": {
        "colab": {
          "base_uri": "https://localhost:8080/",
          "height": 226
        },
        "id": "24VF9l9_9j2g",
        "outputId": "63811374-bb02-40db-e69f-2dac43b10df8"
      },
      "outputs": [
        {
          "data": {
            "application/vnd.google.colaboratory.intrinsic+json": {
              "summary": "{\n  \"name\": \"df\",\n  \"rows\": 26727,\n  \"fields\": [\n    {\n      \"column\": \"Identifier\",\n      \"properties\": {\n        \"dtype\": \"category\",\n        \"num_unique_values\": 3,\n        \"samples\": [\n          \"R2\",\n          \"R3\",\n          \"R1\"\n        ],\n        \"semantic_type\": \"\",\n        \"description\": \"\"\n      }\n    },\n    {\n      \"column\": \"Avg_Chlorophyll\",\n      \"properties\": {\n        \"dtype\": \"number\",\n        \"std\": 4.567176696346042,\n        \"min\": 32.66400434617136,\n        \"max\": 46.43166832989261,\n        \"num_unique_values\": 26727,\n        \"samples\": [\n          38.59224555792726,\n          45.91706717822277,\n          36.60162907869616\n        ],\n        \"semantic_type\": \"\",\n        \"description\": \"\"\n      }\n    },\n    {\n      \"column\": \"Plant_Height_Rate\",\n      \"properties\": {\n        \"dtype\": \"number\",\n        \"std\": 12.514776046878882,\n        \"min\": 37.02039772213334,\n        \"max\": 77.04061036394403,\n        \"num_unique_values\": 26727,\n        \"samples\": [\n          37.87452164004685,\n          53.03534846123058,\n          76.98980761693102\n        ],\n        \"semantic_type\": \"\",\n        \"description\": \"\"\n      }\n    },\n    {\n      \"column\": \"Avg_Leaf_Area\",\n      \"properties\": {\n        \"dtype\": \"number\",\n        \"std\": 265.92813629101414,\n        \"min\": 658.4882253848642,\n        \"max\": 1751.0316541066345,\n        \"num_unique_values\": 26727,\n        \"samples\": [\n          948.6718112619036,\n          875.49842652633,\n          1751.0103991396854\n        ],\n        \"semantic_type\": \"\",\n        \"description\": \"\"\n      }\n    },\n    {\n      \"column\": \"Avg_Wet_Weight_Veg\",\n      \"properties\": {\n        \"dtype\": \"number\",\n        \"std\": 0.2508816268959124,\n        \"min\": 0.8483507262550198,\n        \"max\": 1.7753825677609825,\n        \"num_unique_values\": 26727,\n        \"samples\": [\n          1.0904721700632394,\n          1.5863949294643955,\n          1.499252816032206\n        ],\n        \"semantic_type\": \"\",\n        \"description\": \"\"\n      }\n    },\n    {\n      \"column\": \"Avg_Num_Leaves\",\n      \"properties\": {\n        \"dtype\": \"number\",\n        \"std\": 0.6332253868576128,\n        \"min\": 2.959172548742687,\n        \"max\": 5.029713027717269,\n        \"num_unique_values\": 26727,\n        \"samples\": [\n          3.984134594719394,\n          3.994695108730578,\n          3.9974762083928495\n        ],\n        \"semantic_type\": \"\",\n        \"description\": \"\"\n      }\n    },\n    {\n      \"column\": \"Avg_Root_Diameter\",\n      \"properties\": {\n        \"dtype\": \"number\",\n        \"std\": 2.481964247590796,\n        \"min\": 11.075736857352034,\n        \"max\": 20.271423443635705,\n        \"num_unique_values\": 26727,\n        \"samples\": [\n          15.73301015144413,\n          14.940466936110646,\n          19.73320079089899\n        ],\n        \"semantic_type\": \"\",\n        \"description\": \"\"\n      }\n    },\n    {\n      \"column\": \"Avg_Dry_Weight_Root\",\n      \"properties\": {\n        \"dtype\": \"number\",\n        \"std\": 0.32846121835247705,\n        \"min\": 0.2419724994111224,\n        \"max\": 1.4537747841643858,\n        \"num_unique_values\": 26727,\n        \"samples\": [\n          1.2185730789064486,\n          0.8134073436554531,\n          1.4344677746746606\n        ],\n        \"semantic_type\": \"\",\n        \"description\": \"\"\n      }\n    },\n    {\n      \"column\": \"Perc_Dry_Matter_Veg\",\n      \"properties\": {\n        \"dtype\": \"number\",\n        \"std\": 9.991865117367588,\n        \"min\": 8.021504995830197,\n        \"max\": 43.660372560991945,\n        \"num_unique_values\": 26727,\n        \"samples\": [\n          11.972536745441134,\n          22.10072258058183,\n          27.09635035369234\n        ],\n        \"semantic_type\": \"\",\n        \"description\": \"\"\n      }\n    },\n    {\n      \"column\": \"Avg_Root_Length\",\n      \"properties\": {\n        \"dtype\": \"number\",\n        \"std\": 2.774401429470103,\n        \"min\": 12.359923727028624,\n        \"max\": 22.58435356286597,\n        \"num_unique_values\": 26727,\n        \"samples\": [\n          19.16272473475813,\n          14.940824692028292,\n          22.5413081089542\n        ],\n        \"semantic_type\": \"\",\n        \"description\": \"\"\n      }\n    },\n    {\n      \"column\": \"Avg_Wet_Weight_Root\",\n      \"properties\": {\n        \"dtype\": \"number\",\n        \"std\": 1.0308778350373606,\n        \"min\": 1.1267152150032562,\n        \"max\": 4.77584670550804,\n        \"num_unique_values\": 26727,\n        \"samples\": [\n          3.16038587662296,\n          2.1203808027096707,\n          4.746732034747854\n        ],\n        \"semantic_type\": \"\",\n        \"description\": \"\"\n      }\n    },\n    {\n      \"column\": \"Avg_Dry_Weight_Veg\",\n      \"properties\": {\n        \"dtype\": \"number\",\n        \"std\": 0.15899574576334607,\n        \"min\": 0.0382096932889574,\n        \"max\": 0.6874701372911625,\n        \"num_unique_values\": 26727,\n        \"samples\": [\n          0.13260451875844,\n          0.3458340818121976,\n          0.4093804632295562\n        ],\n        \"semantic_type\": \"\",\n        \"description\": \"\"\n      }\n    },\n    {\n      \"column\": \"Perc_Dry_Matter_Root\",\n      \"properties\": {\n        \"dtype\": \"number\",\n        \"std\": 6.155508520222223,\n        \"min\": 23.632526799133352,\n        \"max\": 46.57806028500044,\n        \"num_unique_values\": 26727,\n        \"samples\": [\n          39.13523321995316,\n          38.15247844293594,\n          30.043111063844705\n        ],\n        \"semantic_type\": \"\",\n        \"description\": \"\"\n      }\n    },\n    {\n      \"column\": \"Class\",\n      \"properties\": {\n        \"dtype\": \"category\",\n        \"num_unique_values\": 6,\n        \"samples\": [\n          \"SA\",\n          \"SB\",\n          \"TC\"\n        ],\n        \"semantic_type\": \"\",\n        \"description\": \"\"\n      }\n    }\n  ]\n}",
              "type": "dataframe",
              "variable_name": "df"
            },
            "text/html": [
              "\n",
              "  <div id=\"df-dfa9b7eb-ec85-4104-baf1-555265c9ad81\" class=\"colab-df-container\">\n",
              "    <div>\n",
              "<style scoped>\n",
              "    .dataframe tbody tr th:only-of-type {\n",
              "        vertical-align: middle;\n",
              "    }\n",
              "\n",
              "    .dataframe tbody tr th {\n",
              "        vertical-align: top;\n",
              "    }\n",
              "\n",
              "    .dataframe thead th {\n",
              "        text-align: right;\n",
              "    }\n",
              "</style>\n",
              "<table border=\"1\" class=\"dataframe\">\n",
              "  <thead>\n",
              "    <tr style=\"text-align: right;\">\n",
              "      <th></th>\n",
              "      <th>Identifier</th>\n",
              "      <th>Avg_Chlorophyll</th>\n",
              "      <th>Plant_Height_Rate</th>\n",
              "      <th>Avg_Leaf_Area</th>\n",
              "      <th>Avg_Wet_Weight_Veg</th>\n",
              "      <th>Avg_Num_Leaves</th>\n",
              "      <th>Avg_Root_Diameter</th>\n",
              "      <th>Avg_Dry_Weight_Root</th>\n",
              "      <th>Perc_Dry_Matter_Veg</th>\n",
              "      <th>Avg_Root_Length</th>\n",
              "      <th>Avg_Wet_Weight_Root</th>\n",
              "      <th>Avg_Dry_Weight_Veg</th>\n",
              "      <th>Perc_Dry_Matter_Root</th>\n",
              "      <th>Class</th>\n",
              "    </tr>\n",
              "  </thead>\n",
              "  <tbody>\n",
              "    <tr>\n",
              "      <th>2</th>\n",
              "      <td>R2</td>\n",
              "      <td>33.100405</td>\n",
              "      <td>67.067344</td>\n",
              "      <td>1009.208996</td>\n",
              "      <td>1.104647</td>\n",
              "      <td>5.007652</td>\n",
              "      <td>15.980760</td>\n",
              "      <td>1.185391</td>\n",
              "      <td>19.398789</td>\n",
              "      <td>20.840822</td>\n",
              "      <td>2.861635</td>\n",
              "      <td>0.200113</td>\n",
              "      <td>41.289875</td>\n",
              "      <td>SA</td>\n",
              "    </tr>\n",
              "    <tr>\n",
              "      <th>4</th>\n",
              "      <td>R3</td>\n",
              "      <td>36.297008</td>\n",
              "      <td>45.588894</td>\n",
              "      <td>981.470310</td>\n",
              "      <td>1.363205</td>\n",
              "      <td>4.003682</td>\n",
              "      <td>16.979894</td>\n",
              "      <td>0.777428</td>\n",
              "      <td>31.423772</td>\n",
              "      <td>17.331894</td>\n",
              "      <td>2.766242</td>\n",
              "      <td>0.424172</td>\n",
              "      <td>27.898619</td>\n",
              "      <td>SA</td>\n",
              "    </tr>\n",
              "    <tr>\n",
              "      <th>5</th>\n",
              "      <td>R3</td>\n",
              "      <td>36.287722</td>\n",
              "      <td>45.598585</td>\n",
              "      <td>981.460993</td>\n",
              "      <td>1.353790</td>\n",
              "      <td>3.998621</td>\n",
              "      <td>16.991603</td>\n",
              "      <td>0.760842</td>\n",
              "      <td>31.403639</td>\n",
              "      <td>17.324861</td>\n",
              "      <td>2.745382</td>\n",
              "      <td>0.435148</td>\n",
              "      <td>27.927017</td>\n",
              "      <td>SA</td>\n",
              "    </tr>\n",
              "    <tr>\n",
              "      <th>7</th>\n",
              "      <td>R2</td>\n",
              "      <td>33.105558</td>\n",
              "      <td>67.073406</td>\n",
              "      <td>1009.239638</td>\n",
              "      <td>1.097444</td>\n",
              "      <td>4.991835</td>\n",
              "      <td>15.965588</td>\n",
              "      <td>1.189576</td>\n",
              "      <td>19.407307</td>\n",
              "      <td>20.838177</td>\n",
              "      <td>2.847526</td>\n",
              "      <td>0.216855</td>\n",
              "      <td>41.304762</td>\n",
              "      <td>SA</td>\n",
              "    </tr>\n",
              "    <tr>\n",
              "      <th>8</th>\n",
              "      <td>R2</td>\n",
              "      <td>33.092448</td>\n",
              "      <td>67.061659</td>\n",
              "      <td>1009.218887</td>\n",
              "      <td>1.103098</td>\n",
              "      <td>4.995131</td>\n",
              "      <td>15.964761</td>\n",
              "      <td>1.182838</td>\n",
              "      <td>19.387573</td>\n",
              "      <td>20.824335</td>\n",
              "      <td>2.857965</td>\n",
              "      <td>0.209869</td>\n",
              "      <td>41.318049</td>\n",
              "      <td>SA</td>\n",
              "    </tr>\n",
              "  </tbody>\n",
              "</table>\n",
              "</div>\n",
              "    <div class=\"colab-df-buttons\">\n",
              "\n",
              "  <div class=\"colab-df-container\">\n",
              "    <button class=\"colab-df-convert\" onclick=\"convertToInteractive('df-dfa9b7eb-ec85-4104-baf1-555265c9ad81')\"\n",
              "            title=\"Convert this dataframe to an interactive table.\"\n",
              "            style=\"display:none;\">\n",
              "\n",
              "  <svg xmlns=\"http://www.w3.org/2000/svg\" height=\"24px\" viewBox=\"0 -960 960 960\">\n",
              "    <path d=\"M120-120v-720h720v720H120Zm60-500h600v-160H180v160Zm220 220h160v-160H400v160Zm0 220h160v-160H400v160ZM180-400h160v-160H180v160Zm440 0h160v-160H620v160ZM180-180h160v-160H180v160Zm440 0h160v-160H620v160Z\"/>\n",
              "  </svg>\n",
              "    </button>\n",
              "\n",
              "  <style>\n",
              "    .colab-df-container {\n",
              "      display:flex;\n",
              "      gap: 12px;\n",
              "    }\n",
              "\n",
              "    .colab-df-convert {\n",
              "      background-color: #E8F0FE;\n",
              "      border: none;\n",
              "      border-radius: 50%;\n",
              "      cursor: pointer;\n",
              "      display: none;\n",
              "      fill: #1967D2;\n",
              "      height: 32px;\n",
              "      padding: 0 0 0 0;\n",
              "      width: 32px;\n",
              "    }\n",
              "\n",
              "    .colab-df-convert:hover {\n",
              "      background-color: #E2EBFA;\n",
              "      box-shadow: 0px 1px 2px rgba(60, 64, 67, 0.3), 0px 1px 3px 1px rgba(60, 64, 67, 0.15);\n",
              "      fill: #174EA6;\n",
              "    }\n",
              "\n",
              "    .colab-df-buttons div {\n",
              "      margin-bottom: 4px;\n",
              "    }\n",
              "\n",
              "    [theme=dark] .colab-df-convert {\n",
              "      background-color: #3B4455;\n",
              "      fill: #D2E3FC;\n",
              "    }\n",
              "\n",
              "    [theme=dark] .colab-df-convert:hover {\n",
              "      background-color: #434B5C;\n",
              "      box-shadow: 0px 1px 3px 1px rgba(0, 0, 0, 0.15);\n",
              "      filter: drop-shadow(0px 1px 2px rgba(0, 0, 0, 0.3));\n",
              "      fill: #FFFFFF;\n",
              "    }\n",
              "  </style>\n",
              "\n",
              "    <script>\n",
              "      const buttonEl =\n",
              "        document.querySelector('#df-dfa9b7eb-ec85-4104-baf1-555265c9ad81 button.colab-df-convert');\n",
              "      buttonEl.style.display =\n",
              "        google.colab.kernel.accessAllowed ? 'block' : 'none';\n",
              "\n",
              "      async function convertToInteractive(key) {\n",
              "        const element = document.querySelector('#df-dfa9b7eb-ec85-4104-baf1-555265c9ad81');\n",
              "        const dataTable =\n",
              "          await google.colab.kernel.invokeFunction('convertToInteractive',\n",
              "                                                    [key], {});\n",
              "        if (!dataTable) return;\n",
              "\n",
              "        const docLinkHtml = 'Like what you see? Visit the ' +\n",
              "          '<a target=\"_blank\" href=https://colab.research.google.com/notebooks/data_table.ipynb>data table notebook</a>'\n",
              "          + ' to learn more about interactive tables.';\n",
              "        element.innerHTML = '';\n",
              "        dataTable['output_type'] = 'display_data';\n",
              "        await google.colab.output.renderOutput(dataTable, element);\n",
              "        const docLink = document.createElement('div');\n",
              "        docLink.innerHTML = docLinkHtml;\n",
              "        element.appendChild(docLink);\n",
              "      }\n",
              "    </script>\n",
              "  </div>\n",
              "\n",
              "\n",
              "<div id=\"df-01c8c66b-305d-4064-9b3f-aad4016c42c2\">\n",
              "  <button class=\"colab-df-quickchart\" onclick=\"quickchart('df-01c8c66b-305d-4064-9b3f-aad4016c42c2')\"\n",
              "            title=\"Suggest charts\"\n",
              "            style=\"display:none;\">\n",
              "\n",
              "<svg xmlns=\"http://www.w3.org/2000/svg\" height=\"24px\"viewBox=\"0 0 24 24\"\n",
              "     width=\"24px\">\n",
              "    <g>\n",
              "        <path d=\"M19 3H5c-1.1 0-2 .9-2 2v14c0 1.1.9 2 2 2h14c1.1 0 2-.9 2-2V5c0-1.1-.9-2-2-2zM9 17H7v-7h2v7zm4 0h-2V7h2v10zm4 0h-2v-4h2v4z\"/>\n",
              "    </g>\n",
              "</svg>\n",
              "  </button>\n",
              "\n",
              "<style>\n",
              "  .colab-df-quickchart {\n",
              "      --bg-color: #E8F0FE;\n",
              "      --fill-color: #1967D2;\n",
              "      --hover-bg-color: #E2EBFA;\n",
              "      --hover-fill-color: #174EA6;\n",
              "      --disabled-fill-color: #AAA;\n",
              "      --disabled-bg-color: #DDD;\n",
              "  }\n",
              "\n",
              "  [theme=dark] .colab-df-quickchart {\n",
              "      --bg-color: #3B4455;\n",
              "      --fill-color: #D2E3FC;\n",
              "      --hover-bg-color: #434B5C;\n",
              "      --hover-fill-color: #FFFFFF;\n",
              "      --disabled-bg-color: #3B4455;\n",
              "      --disabled-fill-color: #666;\n",
              "  }\n",
              "\n",
              "  .colab-df-quickchart {\n",
              "    background-color: var(--bg-color);\n",
              "    border: none;\n",
              "    border-radius: 50%;\n",
              "    cursor: pointer;\n",
              "    display: none;\n",
              "    fill: var(--fill-color);\n",
              "    height: 32px;\n",
              "    padding: 0;\n",
              "    width: 32px;\n",
              "  }\n",
              "\n",
              "  .colab-df-quickchart:hover {\n",
              "    background-color: var(--hover-bg-color);\n",
              "    box-shadow: 0 1px 2px rgba(60, 64, 67, 0.3), 0 1px 3px 1px rgba(60, 64, 67, 0.15);\n",
              "    fill: var(--button-hover-fill-color);\n",
              "  }\n",
              "\n",
              "  .colab-df-quickchart-complete:disabled,\n",
              "  .colab-df-quickchart-complete:disabled:hover {\n",
              "    background-color: var(--disabled-bg-color);\n",
              "    fill: var(--disabled-fill-color);\n",
              "    box-shadow: none;\n",
              "  }\n",
              "\n",
              "  .colab-df-spinner {\n",
              "    border: 2px solid var(--fill-color);\n",
              "    border-color: transparent;\n",
              "    border-bottom-color: var(--fill-color);\n",
              "    animation:\n",
              "      spin 1s steps(1) infinite;\n",
              "  }\n",
              "\n",
              "  @keyframes spin {\n",
              "    0% {\n",
              "      border-color: transparent;\n",
              "      border-bottom-color: var(--fill-color);\n",
              "      border-left-color: var(--fill-color);\n",
              "    }\n",
              "    20% {\n",
              "      border-color: transparent;\n",
              "      border-left-color: var(--fill-color);\n",
              "      border-top-color: var(--fill-color);\n",
              "    }\n",
              "    30% {\n",
              "      border-color: transparent;\n",
              "      border-left-color: var(--fill-color);\n",
              "      border-top-color: var(--fill-color);\n",
              "      border-right-color: var(--fill-color);\n",
              "    }\n",
              "    40% {\n",
              "      border-color: transparent;\n",
              "      border-right-color: var(--fill-color);\n",
              "      border-top-color: var(--fill-color);\n",
              "    }\n",
              "    60% {\n",
              "      border-color: transparent;\n",
              "      border-right-color: var(--fill-color);\n",
              "    }\n",
              "    80% {\n",
              "      border-color: transparent;\n",
              "      border-right-color: var(--fill-color);\n",
              "      border-bottom-color: var(--fill-color);\n",
              "    }\n",
              "    90% {\n",
              "      border-color: transparent;\n",
              "      border-bottom-color: var(--fill-color);\n",
              "    }\n",
              "  }\n",
              "</style>\n",
              "\n",
              "  <script>\n",
              "    async function quickchart(key) {\n",
              "      const quickchartButtonEl =\n",
              "        document.querySelector('#' + key + ' button');\n",
              "      quickchartButtonEl.disabled = true;  // To prevent multiple clicks.\n",
              "      quickchartButtonEl.classList.add('colab-df-spinner');\n",
              "      try {\n",
              "        const charts = await google.colab.kernel.invokeFunction(\n",
              "            'suggestCharts', [key], {});\n",
              "      } catch (error) {\n",
              "        console.error('Error during call to suggestCharts:', error);\n",
              "      }\n",
              "      quickchartButtonEl.classList.remove('colab-df-spinner');\n",
              "      quickchartButtonEl.classList.add('colab-df-quickchart-complete');\n",
              "    }\n",
              "    (() => {\n",
              "      let quickchartButtonEl =\n",
              "        document.querySelector('#df-01c8c66b-305d-4064-9b3f-aad4016c42c2 button');\n",
              "      quickchartButtonEl.style.display =\n",
              "        google.colab.kernel.accessAllowed ? 'block' : 'none';\n",
              "    })();\n",
              "  </script>\n",
              "</div>\n",
              "\n",
              "    </div>\n",
              "  </div>\n"
            ],
            "text/plain": [
              "  Identifier  Avg_Chlorophyll  Plant_Height_Rate  Avg_Leaf_Area  \\\n",
              "2         R2        33.100405          67.067344    1009.208996   \n",
              "4         R3        36.297008          45.588894     981.470310   \n",
              "5         R3        36.287722          45.598585     981.460993   \n",
              "7         R2        33.105558          67.073406    1009.239638   \n",
              "8         R2        33.092448          67.061659    1009.218887   \n",
              "\n",
              "   Avg_Wet_Weight_Veg  Avg_Num_Leaves  Avg_Root_Diameter  Avg_Dry_Weight_Root  \\\n",
              "2            1.104647        5.007652          15.980760             1.185391   \n",
              "4            1.363205        4.003682          16.979894             0.777428   \n",
              "5            1.353790        3.998621          16.991603             0.760842   \n",
              "7            1.097444        4.991835          15.965588             1.189576   \n",
              "8            1.103098        4.995131          15.964761             1.182838   \n",
              "\n",
              "   Perc_Dry_Matter_Veg  Avg_Root_Length  Avg_Wet_Weight_Root  \\\n",
              "2            19.398789        20.840822             2.861635   \n",
              "4            31.423772        17.331894             2.766242   \n",
              "5            31.403639        17.324861             2.745382   \n",
              "7            19.407307        20.838177             2.847526   \n",
              "8            19.387573        20.824335             2.857965   \n",
              "\n",
              "   Avg_Dry_Weight_Veg  Perc_Dry_Matter_Root Class  \n",
              "2            0.200113             41.289875    SA  \n",
              "4            0.424172             27.898619    SA  \n",
              "5            0.435148             27.927017    SA  \n",
              "7            0.216855             41.304762    SA  \n",
              "8            0.209869             41.318049    SA  "
            ]
          },
          "execution_count": 7,
          "metadata": {},
          "output_type": "execute_result"
        }
      ],
      "source": [
        "# Step 3: Re-add the column using the backup\n",
        "df.insert(3, 'Avg_Leaf_Area', deleted_column_backup)\n",
        "df.head(5)"
      ]
    },
    {
      "cell_type": "code",
      "execution_count": null,
      "metadata": {
        "id": "7rNX5Xhd_ZnK"
      },
      "outputs": [],
      "source": [
        "num_columns = df.select_dtypes(include=['float64']).columns"
      ]
    },
    {
      "cell_type": "code",
      "execution_count": null,
      "metadata": {
        "colab": {
          "base_uri": "https://localhost:8080/",
          "height": 694
        },
        "id": "vsV22Px8-0LN",
        "outputId": "34ba6b9c-fa3b-454a-dc21-226c6733d30d"
      },
      "outputs": [
        {
          "data": {
            "image/png": "[encoded data removed]",
            "text/plain": [
              "<Figure size 2000x1000 with 1 Axes>"
            ]
          },
          "metadata": {},
          "output_type": "display_data"
        }
      ],
      "source": [
        "# Plotting boxplots after removing outliers\n",
        "plt.figure(figsize=(20, 10))\n",
        "df[num_columns].boxplot()\n",
        "plt.title(\"Boxplots after removing outliers\")\n",
        "plt.show()"
      ]
    },
    {
      "cell_type": "code",
      "execution_count": null,
      "metadata": {
        "id": "b8feMdFp___j"
      },
      "outputs": [],
      "source": [
        "# Specify the fourth column (index 3, as DataFrame indices are zero-based)\n",
        "column_name = df.columns[3]\n",
        "\n",
        "# Calculate Q1 (25th percentile) and Q3 (75th percentile) for the fourth column\n",
        "Q1 = df[column_name].quantile(0.25)\n",
        "Q3 = df[column_name].quantile(0.75)\n",
        "IQR = Q3 - Q1\n",
        "\n",
        "# Determine the upper bound\n",
        "upper_bound = Q3 + 1.5 * IQR\n",
        "\n",
        "# Filter out the values above the upper bound\n",
        "df = df[df[column_name] <= upper_bound]"
      ]
    },
    {
      "cell_type": "code",
      "execution_count": null,
      "metadata": {
        "colab": {
          "base_uri": "https://localhost:8080/",
          "height": 694
        },
        "id": "nwAL_7IXAEdJ",
        "outputId": "68683a6b-033b-4a77-9926-f70161782392"
      },
      "outputs": [
        {
          "data": {
            "image/png": "[encoded data removed]",
            "text/plain": [
              "<Figure size 2000x1000 with 1 Axes>"
            ]
          },
          "metadata": {},
          "output_type": "display_data"
        }
      ],
      "source": [
        "# Plotting boxplots after removing outliers\n",
        "plt.figure(figsize=(20, 10))\n",
        "df[num_columns].boxplot()\n",
        "plt.title(\"Boxplots after removing outliers\")\n",
        "plt.show()"
      ]
    },
    {
      "cell_type": "code",
      "execution_count": null,
      "metadata": {
        "colab": {
          "base_uri": "https://localhost:8080/"
        },
        "id": "9pYjr3dcBEmJ",
        "outputId": "b22f3946-9214-4877-d0d6-d137857d814b"
      },
      "outputs": [
        {
          "name": "stdout",
          "output_type": "stream",
          "text": [
            "Number of rows after cleaning: 25080\n"
          ]
        }
      ],
      "source": [
        "print(f\"Number of rows after cleaning: {len(df)}\")\n"
      ]
    },
    {
      "cell_type": "code",
      "execution_count": null,
      "metadata": {
        "colab": {
          "base_uri": "https://localhost:8080/"
        },
        "id": "7_PbYEbHmsK3",
        "outputId": "8e0576d8-a6cd-4232-a1ef-1b784eaf4ac1"
      },
      "outputs": [
        {
          "name": "stdout",
          "output_type": "stream",
          "text": [
            "Class Percentages:\n",
            "TB: 19.94%\n",
            "TA: 19.94%\n",
            "TC: 19.94%\n",
            "SC: 13.45%\n",
            "SA: 13.37%\n",
            "SB: 13.37%\n"
          ]
        }
      ],
      "source": [
        "# Assume the last column contains the classes\n",
        "class_column = df.columns[-1]\n",
        "\n",
        "# Calculate the percentage of each class\n",
        "class_counts = df[class_column].value_counts()\n",
        "total_count = len(df)\n",
        "class_percentages = (class_counts / total_count) * 100\n",
        "\n",
        "# Print the percentages with class names\n",
        "print(\"Class Percentages:\")\n",
        "for cls, percentage in class_percentages.items():\n",
        "    print(f\"{cls}: {percentage:.2f}%\")"
      ]
    },
    {
      "cell_type": "code",
      "execution_count": null,
      "metadata": {
        "id": "KcaRXGyXCXCC"
      },
      "outputs": [],
      "source": [
        "df.to_csv(output, index=False, encoding='ISO-8859-1')"
      ]
    },
    {
      "cell_type": "code",
      "execution_count": null,
      "metadata": {
        "colab": {
          "base_uri": "https://localhost:8080/",
          "height": 122
        },
        "id": "VIzk3syTqpTf",
        "outputId": "a04e4d95-8b47-45f5-e14a-1a776167aa7a"
      },
      "outputs": [
        {
          "data": {
            "application/vnd.google.colaboratory.intrinsic+json": {
              "type": "string"
            },
            "text/plain": [
              "\"\\n\\n# Select columns from the second column to the one before the last one\\ncolumns = df.columns[1:-1]\\nclass_column = df.columns[-1]\\n\\n# Create a figure with a grid of subplots (4 plots per row)\\nnum_plots = len(columns) * (len(columns) - 1) // 2\\nnum_rows = (num_plots + 3) // 4  # calculate the number of rows needed\\n\\nfig, axs = plt.subplots(num_rows, 4, figsize=(20, 5 * num_rows))\\nfig.subplots_adjust(hspace=0.7, wspace=0.9)\\n\\nplot_idx = 0\\nfor i in range(len(columns)):\\n    for j in range(i + 1, len(columns)):\\n        x_column = columns[i]\\n        y_column = columns[j]\\n\\n        row = plot_idx // 4\\n        col = plot_idx % 4\\n        sns.scatterplot(data=df, x=x_column, y=y_column, hue=class_column,\\n                        palette='viridis', ax=axs[row, col])\\n        axs[row, col].set_title(f'Relationship between {x_column} \\n and {y_column}')\\n        axs[row, col].set_xlabel(x_column)\\n        axs[row, col].set_ylabel(y_column)\\n\\n        plot_idx += 1\\n\\n# Hide any unused subplots\\nfor idx in range(plot_idx, num_rows * 4):\\n    fig.delaxes(axs.flatten()[idx])\\n\\nplt.show()\\n\""
            ]
          },
          "execution_count": 15,
          "metadata": {},
          "output_type": "execute_result"
        }
      ],
      "source": [
        "import pandas as pd\n",
        "import matplotlib.pyplot as plt\n",
        "import seaborn as sns\n",
        "'''\n",
        "\n",
        "# Select columns from the second column to the one before the last one\n",
        "columns = df.columns[1:-1]\n",
        "class_column = df.columns[-1]\n",
        "\n",
        "# Create a figure with a grid of subplots (4 plots per row)\n",
        "num_plots = len(columns) * (len(columns) - 1) // 2\n",
        "num_rows = (num_plots + 3) // 4  # calculate the number of rows needed\n",
        "\n",
        "fig, axs = plt.subplots(num_rows, 4, figsize=(20, 5 * num_rows))\n",
        "fig.subplots_adjust(hspace=0.7, wspace=0.9)\n",
        "\n",
        "plot_idx = 0\n",
        "for i in range(len(columns)):\n",
        "    for j in range(i + 1, len(columns)):\n",
        "        x_column = columns[i]\n",
        "        y_column = columns[j]\n",
        "\n",
        "        row = plot_idx // 4\n",
        "        col = plot_idx % 4\n",
        "        sns.scatterplot(data=df, x=x_column, y=y_column, hue=class_column,\n",
        "                        palette='viridis', ax=axs[row, col])\n",
        "        axs[row, col].set_title(f'Relationship between {x_column} \\n and {y_column}')\n",
        "        axs[row, col].set_xlabel(x_column)\n",
        "        axs[row, col].set_ylabel(y_column)\n",
        "\n",
        "        plot_idx += 1\n",
        "\n",
        "# Hide any unused subplots\n",
        "for idx in range(plot_idx, num_rows * 4):\n",
        "    fig.delaxes(axs.flatten()[idx])\n",
        "\n",
        "plt.show()\n",
        "'''"
      ]
    },
    {
      "cell_type": "markdown",
      "metadata": {
        "id": "ebHwgci5eTK-"
      },
      "source": [
        "#Classification Task1"
      ]
    },
    {
      "cell_type": "markdown",
      "metadata": {
        "id": "xJpn1Hn2cp-z"
      },
      "source": [
        "In this task K-NN Algorithm will be used on the dataset.\n",
        "\n",
        "\n",
        "\n",
        "K-NN can use different distance metrics to determine the closest neighbors but the Euclidean works effectively for numerical continuous data and it is the default from the sklearn library."
      ]
    },
    {
      "cell_type": "markdown",
      "metadata": {
        "id": "QFOMQXEUPOvm"
      },
      "source": [
        "###Data Preperation"
      ]
    },
    {
      "cell_type": "code",
      "execution_count": null,
      "metadata": {
        "colab": {
          "base_uri": "https://localhost:8080/"
        },
        "id": "si5L8lezaD79",
        "outputId": "f04e362c-7ecb-42b2-a901-7a51ba576cda"
      },
      "outputs": [
        {
          "data": {
            "text/plain": [
              "['Identifier',\n",
              " 'Avg_Chlorophyll',\n",
              " 'Plant_Height_Rate',\n",
              " 'Avg_Leaf_Area',\n",
              " 'Avg_Wet_Weight_Veg',\n",
              " 'Avg_Num_Leaves',\n",
              " 'Avg_Root_Diameter',\n",
              " 'Avg_Dry_Weight_Root',\n",
              " 'Perc_Dry_Matter_Veg',\n",
              " 'Avg_Root_Length',\n",
              " 'Avg_Wet_Weight_Root',\n",
              " 'Avg_Dry_Weight_Veg',\n",
              " 'Perc_Dry_Matter_Root',\n",
              " 'Class']"
            ]
          },
          "execution_count": 16,
          "metadata": {},
          "output_type": "execute_result"
        }
      ],
      "source": [
        "list(df.columns) # to check what columns to include and to exclude"
      ]
    },
    {
      "cell_type": "code",
      "execution_count": null,
      "metadata": {
        "id": "uJ6vHkHxjuX1"
      },
      "outputs": [],
      "source": [
        "from sklearn.model_selection import train_test_split\n",
        "from sklearn.preprocessing import StandardScaler\n",
        "from sklearn.neighbors import KNeighborsClassifier\n",
        "from sklearn.metrics import accuracy_score, classification_report, confusion_matrix\n",
        "\n",
        "\n",
        "\n",
        "# Separate features and target\n",
        "X = df.drop(columns=[\"Class\", \"Identifier\"])  # Exclude 'Identifier' column\n",
        "y = df[class_column]\n",
        "\n",
        "# Split the data into training and testing sets\n",
        "X_train, X_test, y_train, y_test = train_test_split(X, y, test_size=0.3, random_state=42)"
      ]
    },
    {
      "cell_type": "markdown",
      "metadata": {
        "id": "hE3o7SN5YCi7"
      },
      "source": [
        "###Feature Scaling"
      ]
    },
    {
      "cell_type": "code",
      "execution_count": null,
      "metadata": {
        "id": "zoNgFyvSYBJH"
      },
      "outputs": [],
      "source": [
        "# Standardize the features\n",
        "scaler = StandardScaler()\n",
        "X_train = scaler.fit_transform(X_train)\n",
        "X_test = scaler.transform(X_test)"
      ]
    },
    {
      "cell_type": "markdown",
      "metadata": {
        "id": "AboTQ2C_cUlc"
      },
      "source": [
        "Feature scaling was applied to make sure that every feature has the same contribution to avoid biased neighbor selection."
      ]
    },
    {
      "cell_type": "markdown",
      "metadata": {
        "id": "XruTdnpiPVXq"
      },
      "source": [
        "###K-NN:Choosing K"
      ]
    },
    {
      "cell_type": "code",
      "execution_count": null,
      "metadata": {
        "colab": {
          "base_uri": "https://localhost:8080/",
          "height": 472
        },
        "id": "1CStAb1SYNC5",
        "outputId": "ff3971a0-9619-4c00-ce06-1d82de828d8f"
      },
      "outputs": [
        {
          "data": {
            "image/png": "[encoded data removed]",
            "text/plain": [
              "<Figure size 640x480 with 1 Axes>"
            ]
          },
          "metadata": {},
          "output_type": "display_data"
        }
      ],
      "source": [
        "from sklearn.model_selection import train_test_split\n",
        "from sklearn.neighbors import KNeighborsClassifier\n",
        "from sklearn.metrics import accuracy_score\n",
        "import matplotlib.pyplot as plt\n",
        "# Experiment with different K values\n",
        "errors = []\n",
        "k_values = range(1, 21)\n",
        "\n",
        "for k in k_values:\n",
        "    knn = KNeighborsClassifier(n_neighbors=k)\n",
        "    knn.fit(X_train, y_train)  # Use the previously split and prepared data\n",
        "    y_pred = knn.predict(X_test)\n",
        "    errors.append(1 - accuracy_score(y_test, y_pred))\n",
        "\n",
        "# Plot K values vs Error Rate\n",
        "plt.plot(k_values, errors)\n",
        "plt.xlabel('K Value')\n",
        "plt.ylabel('Error Rate')\n",
        "plt.title('K Value vs Error Rate')\n",
        "plt.show()"
      ]
    },
    {
      "cell_type": "markdown",
      "metadata": {
        "id": "8Q5VGtXQbk0_"
      },
      "source": [
        "The range of 1 to 21 was tested and according to the plot the error rate remains at 0 for all the values which means that the feature standardization is highly effective leading to excellent performance. Additionally, there is no overfitting(low k value) or underfitting( high k value) depending on the plot because the error rate remains 0. Therefore, The optimum K value can be any of the values in the range."
      ]
    },
    {
      "cell_type": "markdown",
      "metadata": {
        "id": "wPsSCKKMPlu8"
      },
      "source": [
        "###K-NN: Model Performance"
      ]
    },
    {
      "cell_type": "code",
      "execution_count": null,
      "metadata": {
        "colab": {
          "base_uri": "https://localhost:8080/"
        },
        "id": "OIoCorAoNSMj",
        "outputId": "494e3729-c7e9-4c82-c10d-50c0145172c3"
      },
      "outputs": [
        {
          "name": "stdout",
          "output_type": "stream",
          "text": [
            "Confusion Matrix:\n",
            "[[1001    0    0    0    0    0]\n",
            " [   0 1024    0    0    0    0]\n",
            " [   0    0 1028    0    0    0]\n",
            " [   0    0    0 1492    0    0]\n",
            " [   0    0    0    0 1516    0]\n",
            " [   0    0    0    0    0 1463]]\n",
            "Classification Report:\n",
            "              precision    recall  f1-score   support\n",
            "\n",
            "          SA       1.00      1.00      1.00      1001\n",
            "          SB       1.00      1.00      1.00      1024\n",
            "          SC       1.00      1.00      1.00      1028\n",
            "          TA       1.00      1.00      1.00      1492\n",
            "          TB       1.00      1.00      1.00      1516\n",
            "          TC       1.00      1.00      1.00      1463\n",
            "\n",
            "    accuracy                           1.00      7524\n",
            "   macro avg       1.00      1.00      1.00      7524\n",
            "weighted avg       1.00      1.00      1.00      7524\n",
            "\n"
          ]
        }
      ],
      "source": [
        "from sklearn.metrics import confusion_matrix, classification_report\n",
        "\n",
        "# Train model with the best K\n",
        "knn = KNeighborsClassifier(n_neighbors=5) # 5 was chosen randomely since it does not make any difference\n",
        "knn.fit(X_train, y_train)\n",
        "y_pred = knn.predict(X_test)\n",
        "\n",
        "# Confusion matrix\n",
        "conf_matrix = confusion_matrix(y_test, y_pred)\n",
        "print(\"Confusion Matrix:\")\n",
        "print(conf_matrix)\n",
        "\n",
        "# Classification report\n",
        "report = classification_report(y_test, y_pred)\n",
        "print(\"Classification Report:\")\n",
        "print(report)"
      ]
    },
    {
      "cell_type": "markdown",
      "metadata": {
        "id": "MGaLi-8SbyVL"
      },
      "source": [
        "The fact that all diagonal elements match the number of occurrences for each class and every other element is zero(meaning there are no misclassifications) indicates that the algorithm has achieved excellent results. To prove this the classification reports confirm it by showing that the precision, recall and F1-score is 1.00 for each class and the accuracy is also 1."
      ]
    },
    {
      "cell_type": "markdown",
      "metadata": {
        "id": "o8tdSNqTYbN9"
      },
      "source": [
        "###K-NN: Cross Validation"
      ]
    },
    {
      "cell_type": "code",
      "execution_count": null,
      "metadata": {
        "colab": {
          "base_uri": "https://localhost:8080/"
        },
        "id": "Df0xcpLjYfzZ",
        "outputId": "79a9ffa7-4997-4e4f-cbb5-b5e1a1a12789"
      },
      "outputs": [
        {
          "name": "stdout",
          "output_type": "stream",
          "text": [
            "Cross-validation scores:\n",
            "[1. 1. 1. 1. 1. 1. 1. 1. 1. 1.]\n",
            "Mean cross-validation score: 1.0\n"
          ]
        }
      ],
      "source": [
        "from sklearn.model_selection import cross_val_score\n",
        "\n",
        "# Perform k-fold cross-validation\n",
        "k_fold = 10  # Number of folds\n",
        "cv_scores = cross_val_score(knn, X, y, cv=k_fold)\n",
        "\n",
        "print(\"Cross-validation scores:\")\n",
        "print(cv_scores)\n",
        "print(f\"Mean cross-validation score: {cv_scores.mean()}\")"
      ]
    },
    {
      "cell_type": "markdown",
      "metadata": {
        "id": "mXm9igAzb3aZ"
      },
      "source": [
        "In doing the cross validation of the KNN model K-fold was used because it is effective and reliable in testing the generalization of the model due to the fact that it separated the data into 10 folds and in each fold the model was trained and tested on different parts of the dataset. The cross validation ensured that there is no underfitting or overfitting and that was proven by the excellent results where all the scores were 1 achieving a perfect classification"
      ]
    },
    {
      "cell_type": "markdown",
      "metadata": {
        "id": "6dZw4XGCeXzH"
      },
      "source": [
        "#Classification Task2"
      ]
    },
    {
      "cell_type": "markdown",
      "metadata": {
        "id": "Ok2v4icASHCi"
      },
      "source": [
        "We aim to implement a SVM model to classify plant data based on various physiological features. We will begin by preparing and scaling the dataset, then visualize key feature relationships to understand how well the classes are separated. Based on this visualization and further model evaluation, we will decide which kernel function best fits the nature of our data. We will also explore margin and support vector behavior, evaluate model performance using accuracy, precision, recall, and cross-validation, and ultimately identify the most suitable SVM configuration for our classification task.\n"
      ]
    },
    {
      "cell_type": "markdown",
      "metadata": {
        "id": "FeL9n-ZRVpxT"
      },
      "source": []
    },
    {
      "cell_type": "code",
      "execution_count": null,
      "metadata": {
        "id": "hnaMKOaHpPGC"
      },
      "outputs": [],
      "source": [
        "import pandas as pd\n",
        "import numpy as np\n",
        "import matplotlib.pyplot as plt\n",
        "import seaborn as sns\n",
        "from sklearn.svm import SVC\n",
        "from sklearn.preprocessing import StandardScaler, LabelEncoder\n",
        "from sklearn.model_selection import train_test_split, cross_val_score\n",
        "from sklearn.metrics import confusion_matrix, accuracy_score, precision_score, recall_score\n"
      ]
    },
    {
      "cell_type": "markdown",
      "metadata": {
        "id": "Vod2uTPrV024"
      },
      "source": [
        "**Feature and Target Selection**"
      ]
    },
    {
      "cell_type": "code",
      "execution_count": null,
      "metadata": {
        "id": "NK9-mDlFS21A"
      },
      "outputs": [],
      "source": [
        "X_all = df.drop(columns=['Identifier', 'Class'])  # All input features\n",
        "X_vis = df[['Avg_Chlorophyll', 'Plant_Height_Rate']]  # Only 2 for visual SVM margin\n",
        "y = df['Class']\n"
      ]
    },
    {
      "cell_type": "markdown",
      "metadata": {
        "id": "laEgCDfwV_YS"
      },
      "source": [
        "We choose 'Avg_Chlorophyll' and 'Plant_Height_Rate' for plotting because they are both strong biological indicators\n",
        "'Avg_Chlorophyll' gives an estimate of photosynthetic activity, and 'Plant_Height_Rate' reflects growth\n",
        "Together, they allow us to visually separate the classes with good clarity, which is critical for margin visualization"
      ]
    },
    {
      "cell_type": "markdown",
      "metadata": {
        "id": "FHx7IV_iV8K4"
      },
      "source": [
        "**Encode and Scale Data**"
      ]
    },
    {
      "cell_type": "code",
      "execution_count": null,
      "metadata": {
        "id": "8qy9VOE7TFbX"
      },
      "outputs": [],
      "source": [
        "le = LabelEncoder()\n",
        "y_encoded = le.fit_transform(y)\n",
        "\n",
        "scaler_all = StandardScaler()\n",
        "X_all_scaled = scaler_all.fit_transform(X_all)\n",
        "\n",
        "scaler_vis = StandardScaler()\n",
        "X_vis_scaled = scaler_vis.fit_transform(X_vis)"
      ]
    },
    {
      "cell_type": "markdown",
      "metadata": {
        "id": "Ym4ogyujWHM3"
      },
      "source": [
        "SVMs are sensitive to the scale of features. We scale both the full feature set and the visual pair separately\n",
        "Scaling ensures each feature contributes equally to the model's decision function"
      ]
    },
    {
      "cell_type": "markdown",
      "metadata": {
        "id": "taDHbKvoWL_F"
      },
      "source": [
        "**Split Dataset**"
      ]
    },
    {
      "cell_type": "code",
      "execution_count": null,
      "metadata": {
        "id": "LX5mHb2lTQO0"
      },
      "outputs": [],
      "source": [
        "X_train_all, X_test_all, y_train_all, y_test_all = train_test_split(X_all_scaled, y_encoded, test_size=0.3, random_state=42)\n",
        "X_train_vis, X_test_vis, y_train_vis, y_test_vis = train_test_split(X_vis_scaled, y_encoded, test_size=0.3, random_state=42)"
      ]
    },
    {
      "cell_type": "markdown",
      "metadata": {
        "id": "NDqhfz-qWO7u"
      },
      "source": [
        "The dataset is split into training and test sets. We use two splits:\n",
        "One for training models on the full feature set (for accuracy testing),and one for training on two features (for margin visualization)"
      ]
    },
    {
      "cell_type": "markdown",
      "metadata": {
        "id": "4in8BR0xWUl0"
      },
      "source": [
        "**Visualize the Feature Space**"
      ]
    },
    {
      "cell_type": "code",
      "execution_count": null,
      "metadata": {
        "colab": {
          "base_uri": "https://localhost:8080/",
          "height": 607
        },
        "id": "Y2LcIe4kTXNV",
        "outputId": "d630f5e4-4be9-4c66-ad60-c324a3f47d86"
      },
      "outputs": [
        {
          "data": {
            "image/png": "[encoded data removed]",
            "text/plain": [
              "<Figure size 800x600 with 1 Axes>"
            ]
          },
          "metadata": {},
          "output_type": "display_data"
        }
      ],
      "source": [
        "plt.figure(figsize=(8, 6))\n",
        "sns.scatterplot(x=X_vis_scaled[:, 0], y=X_vis_scaled[:, 1], hue=y, palette='coolwarm', edgecolor='k')\n",
        "plt.title('Class Separation: Chlorophyll vs Plant Height Rate')\n",
        "plt.xlabel('Avg_Chlorophyll (scaled)')\n",
        "plt.ylabel('Plant_Height_Rate (scaled)')\n",
        "plt.grid(True)\n",
        "plt.tight_layout()\n",
        "plt.show()"
      ]
    },
    {
      "cell_type": "markdown",
      "metadata": {
        "id": "Hl1TFl6gWYFw"
      },
      "source": [
        "This scatterplot shows how well the two selected features separate the classes\n",
        "The separation is fairly linear with some curved edges, suggesting a linear model may perform well,but a non-linear model (like RBF) might handle the subtleties better"
      ]
    },
    {
      "cell_type": "markdown",
      "metadata": {
        "id": "OjK0YqSDWc-9"
      },
      "source": [
        "**Train Linear SVM and Plot Margins**"
      ]
    },
    {
      "cell_type": "code",
      "execution_count": null,
      "metadata": {
        "colab": {
          "base_uri": "https://localhost:8080/",
          "height": 607
        },
        "id": "itohlOWgTmKW",
        "outputId": "fa0000fc-f05f-4544-ed64-5ac39723b933"
      },
      "outputs": [
        {
          "data": {
            "image/png": "[encoded data removed]",
            "text/plain": [
              "<Figure size 1000x600 with 1 Axes>"
            ]
          },
          "metadata": {},
          "output_type": "display_data"
        }
      ],
      "source": [
        "linear_model = SVC(kernel='linear', C=1.0)\n",
        "linear_model.fit(X_train_vis, y_train_vis)\n",
        "\n",
        "w = linear_model.coef_[0]\n",
        "b = linear_model.intercept_[0]\n",
        "margin = 1 / np.sqrt(np.sum(w ** 2))\n",
        "support_vectors = linear_model.support_vectors_\n",
        "\n",
        "# Plot decision boundary and margins\n",
        "x = np.linspace(X_vis_scaled[:, 0].min(), X_vis_scaled[:, 0].max(), 100)\n",
        "y_boundary = -(w[0] * x + b) / w[1]\n",
        "y_margin_up = y_boundary + margin\n",
        "y_margin_down = y_boundary - margin\n",
        "\n",
        "plt.figure(figsize=(10, 6))\n",
        "plt.scatter(X_vis_scaled[:, 0], X_vis_scaled[:, 1], c=y_encoded, cmap='coolwarm', edgecolors='k', s=40)\n",
        "plt.scatter(support_vectors[:, 0], support_vectors[:, 1], s=120, facecolors='none', edgecolors='black', label='Support Vectors')\n",
        "plt.plot(x, y_boundary, 'k-', label='Decision Boundary')\n",
        "plt.plot(x, y_margin_up, 'k--', label='Margin')\n",
        "plt.plot(x, y_margin_down, 'k--')\n",
        "plt.xlabel('Avg_Chlorophyll')\n",
        "plt.ylabel('Plant_Height_Rate')\n",
        "plt.title('Linear SVM: Decision Boundary and Margins')\n",
        "plt.legend()\n",
        "plt.grid(True)\n",
        "plt.tight_layout()\n",
        "plt.show()"
      ]
    },
    {
      "cell_type": "markdown",
      "metadata": {
        "id": "RqKcqnddWgE1"
      },
      "source": [
        "The plot clearly shows the SVM’s margin and decision boundary\n",
        "Support vectors are the critical points that lie on or within the margin boundaries and directly influence the placement of the decision boundary"
      ]
    },
    {
      "cell_type": "code",
      "execution_count": null,
      "metadata": {
        "colab": {
          "background_save": true
        },
        "id": "KMW3BgKnZazJ",
        "outputId": "75b847ed-cee6-4d44-8aec-1137c9d30c53"
      },
      "outputs": [
        {
          "data": {
            "image/png": "[encoded data removed]",
            "text/plain": [
              "<Figure size 800x600 with 1 Axes>"
            ]
          },
          "metadata": {},
          "output_type": "display_data"
        }
      ],
      "source": [
        "from sklearn.decomposition import PCA\n",
        "\n",
        "# Reduce full feature set to 2D\n",
        "pca = PCA(n_components=2)\n",
        "X_pca = pca.fit_transform(X_all_scaled)\n",
        "\n",
        "# Plot PCA result\n",
        "plt.figure(figsize=(8, 6))\n",
        "sns.scatterplot(x=X_pca[:, 0], y=X_pca[:, 1], hue=y, palette='Set2', edgecolor='k')\n",
        "plt.title('PCA: 2D Projection of Full Feature Space')\n",
        "plt.xlabel('Principal Component 1')\n",
        "plt.ylabel('Principal Component 2')\n",
        "plt.grid(True)\n",
        "plt.tight_layout()\n",
        "plt.show()\n"
      ]
    },
    {
      "cell_type": "markdown",
      "metadata": {
        "id": "VzteQMAZWk0c"
      },
      "source": [
        "**Compare Kernels (Linear vs RBF) with K-Fold Cross-Validation**"
      ]
    },
    {
      "cell_type": "code",
      "execution_count": null,
      "metadata": {
        "colab": {
          "base_uri": "https://localhost:8080/"
        },
        "id": "qdrugx3UT9Ce",
        "outputId": "b22535a6-e2b3-4ce3-bb69-32032c0212d0"
      },
      "outputs": [
        {
          "name": "stdout",
          "output_type": "stream",
          "text": [
            "\n",
            "=== Kernel: LINEAR ===\n",
            "Accuracy: 1.0000\n",
            "Precision: 1.0000\n",
            "Recall: 1.0000\n",
            "Confusion Matrix:\n",
            "[[1001    0    0    0    0    0]\n",
            " [   0 1024    0    0    0    0]\n",
            " [   0    0 1028    0    0    0]\n",
            " [   0    0    0 1492    0    0]\n",
            " [   0    0    0    0 1516    0]\n",
            " [   0    0    0    0    0 1463]]\n",
            "5-Fold Cross-Validation Mean Score: 1.0000\n",
            "\n",
            "=== Kernel: RBF ===\n",
            "Accuracy: 1.0000\n",
            "Precision: 1.0000\n",
            "Recall: 1.0000\n",
            "Confusion Matrix:\n",
            "[[1001    0    0    0    0    0]\n",
            " [   0 1024    0    0    0    0]\n",
            " [   0    0 1028    0    0    0]\n",
            " [   0    0    0 1492    0    0]\n",
            " [   0    0    0    0 1516    0]\n",
            " [   0    0    0    0    0 1463]]\n",
            "5-Fold Cross-Validation Mean Score: 1.0000\n"
          ]
        }
      ],
      "source": [
        "kernels_to_test = ['linear', 'rbf']\n",
        "\n",
        "for kernel in kernels_to_test:\n",
        "    model = SVC(kernel=kernel, C=1.0, gamma='scale')\n",
        "    model.fit(X_train_all, y_train_all)\n",
        "    y_pred = model.predict(X_test_all)\n",
        "\n",
        "    acc = accuracy_score(y_test_all, y_pred)\n",
        "    prec = precision_score(y_test_all, y_pred, average='weighted', zero_division=0)\n",
        "    rec = recall_score(y_test_all, y_pred, average='weighted')\n",
        "    cm = confusion_matrix(y_test_all, y_pred)\n",
        "\n",
        "    # === Apply 5-Fold Cross-Validation ===\n",
        "    cv_scores = cross_val_score(model, X_all_scaled, y_encoded, cv=5)\n",
        "    cv_mean = cv_scores.mean()\n",
        "\n",
        "\n",
        "    print(f\"\\n=== Kernel: {kernel.upper()} ===\")\n",
        "    print(f\"Accuracy: {acc:.4f}\")\n",
        "    print(f\"Precision: {prec:.4f}\")\n",
        "    print(f\"Recall: {rec:.4f}\")\n",
        "    print(f\"Confusion Matrix:\\n{cm}\")\n",
        "    print(f\"5-Fold Cross-Validation Mean Score: {cv_mean:.4f}\")"
      ]
    },
    {
      "cell_type": "markdown",
      "metadata": {
        "id": "scWWvTYVXw5B"
      },
      "source": [
        "After evaluating both the linear and RBF kernels on the full dataset, we found that both kernels achieved perfect classification performance. This includes 100% accuracy, precision, recall, and cross-validation scores. This indicates that the classes in the dataset are highly separable and the feature engineering was effective. Since the linear kernel achieves these results with a simpler, more interpretable model and lower computational cost, we conclude that the linear kernel is the best choice for this dataset.\n",
        "\n",
        "While the 2D visualization using two features shows some overlap between classes, the full feature space contains more dimensions that help separate the data more effectively. The SVM model applies a one-vs-one strategy for multi-class classification, training several binary classifiers between each pair of classes. This allows the linear kernel to perfectly separate the classes when using all features, even though the simplified 2D plot may not reflect full separability.\n",
        "\n"
      ]
    },
    {
      "cell_type": "markdown",
      "metadata": {
        "id": "SNWor10CZBjQ"
      },
      "source": [
        "**SVM Summary**"
      ]
    },
    {
      "cell_type": "markdown",
      "metadata": {
        "id": "oANW1IH2ZFmc"
      },
      "source": [
        "We explored the application of Support Vector Machine (SVM) for classifying plant data based on a variety of physiological measurements. We began by preparing and scaling the dataset, then visualized two key features — chlorophyll content and plant height rate — which showed meaningful class separation. This initial analysis guided our understanding of how the classes behave in the feature space. We then trained a linear SVM to visualize the decision boundary and analyze the margin and support vectors\n",
        "\n",
        "To determine the most suitable kernel for our data, we manually tested both linear and RBF kernels using the full set of features. We evaluated each model using standard classification metrics like accuracy, precision, and recall, along with 5-Fold Cross-Validation to ensure generalization. The results indicated that while the linear kernel performed well and offered interpretability through margin visualization, the RBF kernel slightly outperformed it in terms of predictive performance and consistency across validation folds\n",
        "\n",
        "Therefore, we conclude that the RBF kernel is the most appropriate choice for this classification problem, as it captures subtle nonlinear relationships in the data and provides more robust generalization to unseen samples"
      ]
    },
    {
      "cell_type": "code",
      "execution_count": null,
      "metadata": {
        "id": "BJjzzuTzXHqi"
      },
      "outputs": [],
      "source": []
    },
    {
      "cell_type": "markdown",
      "metadata": {
        "id": "prPE_1xXXua7"
      },
      "source": []
    },
    {
      "cell_type": "markdown",
      "metadata": {
        "id": "i6AhB6E8WoQA"
      },
      "source": []
    },
    {
      "cell_type": "markdown",
      "metadata": {
        "id": "9sxJE0fAWs2o"
      },
      "source": [
        "**Summary for SVM**"
      ]
    },
    {
      "cell_type": "markdown",
      "metadata": {
        "id": "ekO4CzwpVAlF"
      },
      "source": []
    },
    {
      "cell_type": "markdown",
      "metadata": {
        "id": "I7UcVQluawjd"
      },
      "source": [
        "#Classification Task3\n",
        "\n"
      ]
    },
    {
      "cell_type": "code",
      "execution_count": null,
      "metadata": {
        "colab": {
          "base_uri": "https://localhost:8080/"
        },
        "id": "psFn408YHF7w",
        "outputId": "aba8e696-3eb2-4d01-e07b-a9af878af311"
      },
      "outputs": [
        {
          "name": "stderr",
          "output_type": "stream",
          "text": [
            "/usr/local/lib/python3.11/dist-packages/keras/src/layers/core/dense.py:87: UserWarning: Do not pass an `input_shape`/`input_dim` argument to a layer. When using Sequential models, prefer using an `Input(shape)` object as the first layer in the model instead.\n",
            "  super().__init__(activity_regularizer=activity_regularizer, **kwargs)\n"
          ]
        }
      ],
      "source": [
        "from tensorflow.keras.models import Sequential\n",
        "from tensorflow.keras.layers import Dense, Dropout\n",
        "\n",
        "# Defining the NN architecture\n",
        "num_classes = y_train.nunique()\n",
        "\n",
        "model = Sequential([\n",
        "    Dense(128, activation='relu', input_shape=(X_train.shape[1],)),\n",
        "    Dropout(0.4),\n",
        "    Dense(64, activation='relu'),\n",
        "    Dropout(0.3),\n",
        "    Dense(32, activation='relu'),\n",
        "    Dense(num_classes, activation='softmax')\n",
        "])"
      ]
    },
    {
      "cell_type": "code",
      "execution_count": null,
      "metadata": {
        "id": "24JcSyZGMQ3t"
      },
      "outputs": [],
      "source": [
        "from sklearn.preprocessing import LabelEncoder\n",
        "\n",
        "encoder = LabelEncoder()\n",
        "y_encoded = encoder.fit_transform(y)  # Convert string labels to integers\n",
        "\n",
        "X_train, X_test, y_train, y_test = train_test_split(X, y_encoded, test_size=0.3, random_state=42)"
      ]
    },
    {
      "cell_type": "code",
      "execution_count": null,
      "metadata": {
        "id": "bb0YQeH6HMwF"
      },
      "outputs": [],
      "source": [
        "# Compiling the model with Adam optimizer wiht a 0.001 learning rate\n",
        "model.compile(optimizer='adam',\n",
        "              loss='sparse_categorical_crossentropy',\n",
        "              metrics=['accuracy'])"
      ]
    },
    {
      "cell_type": "code",
      "execution_count": null,
      "metadata": {
        "colab": {
          "base_uri": "https://localhost:8080/"
        },
        "id": "Qm8cHFm5HT3i",
        "outputId": "3d410c83-104f-48cc-a92e-202a31f74f8a"
      },
      "outputs": [
        {
          "name": "stdout",
          "output_type": "stream",
          "text": [
            "Epoch 1/20\n",
            "\u001b[1m220/220\u001b[0m \u001b[32m━━━━━━━━━━━━━━━━━━━━\u001b[0m\u001b[37m\u001b[0m \u001b[1m2s\u001b[0m 3ms/step - accuracy: 0.1739 - loss: 44.2685 - val_accuracy: 0.2810 - val_loss: 1.7699\n",
            "Epoch 2/20\n",
            "\u001b[1m220/220\u001b[0m \u001b[32m━━━━━━━━━━━━━━━━━━━━\u001b[0m\u001b[37m\u001b[0m \u001b[1m2s\u001b[0m 7ms/step - accuracy: 0.2078 - loss: 2.1454 - val_accuracy: 0.1959 - val_loss: 1.7533\n",
            "Epoch 3/20\n",
            "\u001b[1m220/220\u001b[0m \u001b[32m━━━━━━━━━━━━━━━━━━━━\u001b[0m\u001b[37m\u001b[0m \u001b[1m2s\u001b[0m 4ms/step - accuracy: 0.2186 - loss: 1.8424 - val_accuracy: 0.4080 - val_loss: 1.7350\n",
            "Epoch 4/20\n",
            "\u001b[1m220/220\u001b[0m \u001b[32m━━━━━━━━━━━━━━━━━━━━\u001b[0m\u001b[37m\u001b[0m \u001b[1m1s\u001b[0m 3ms/step - accuracy: 0.2274 - loss: 1.7890 - val_accuracy: 0.2127 - val_loss: 1.7343\n",
            "Epoch 5/20\n",
            "\u001b[1m220/220\u001b[0m \u001b[32m━━━━━━━━━━━━━━━━━━━━\u001b[0m\u001b[37m\u001b[0m \u001b[1m2s\u001b[0m 5ms/step - accuracy: 0.2349 - loss: 1.7697 - val_accuracy: 0.2127 - val_loss: 1.7189\n",
            "Epoch 6/20\n",
            "\u001b[1m220/220\u001b[0m \u001b[32m━━━━━━━━━━━━━━━━━━━━\u001b[0m\u001b[37m\u001b[0m \u001b[1m0s\u001b[0m 2ms/step - accuracy: 0.2400 - loss: 1.7601 - val_accuracy: 0.2136 - val_loss: 1.7191\n",
            "Epoch 7/20\n",
            "\u001b[1m220/220\u001b[0m \u001b[32m━━━━━━━━━━━━━━━━━━━━\u001b[0m\u001b[37m\u001b[0m \u001b[1m0s\u001b[0m 2ms/step - accuracy: 0.2465 - loss: 1.7409 - val_accuracy: 0.3400 - val_loss: 1.7062\n",
            "Epoch 8/20\n",
            "\u001b[1m220/220\u001b[0m \u001b[32m━━━━━━━━━━━━━━━━━━━━\u001b[0m\u001b[37m\u001b[0m \u001b[1m1s\u001b[0m 2ms/step - accuracy: 0.2528 - loss: 1.7370 - val_accuracy: 0.2597 - val_loss: 1.6771\n",
            "Epoch 9/20\n",
            "\u001b[1m220/220\u001b[0m \u001b[32m━━━━━━━━━━━━━━━━━━━━\u001b[0m\u001b[37m\u001b[0m \u001b[1m1s\u001b[0m 2ms/step - accuracy: 0.2658 - loss: 1.7200 - val_accuracy: 0.2597 - val_loss: 1.6638\n",
            "Epoch 10/20\n",
            "\u001b[1m220/220\u001b[0m \u001b[32m━━━━━━━━━━━━━━━━━━━━\u001b[0m\u001b[37m\u001b[0m \u001b[1m1s\u001b[0m 2ms/step - accuracy: 0.2886 - loss: 1.6984 - val_accuracy: 0.4052 - val_loss: 1.6262\n",
            "Epoch 11/20\n",
            "\u001b[1m220/220\u001b[0m \u001b[32m━━━━━━━━━━━━━━━━━━━━\u001b[0m\u001b[37m\u001b[0m \u001b[1m1s\u001b[0m 4ms/step - accuracy: 0.2860 - loss: 1.6787 - val_accuracy: 0.5393 - val_loss: 1.5549\n",
            "Epoch 12/20\n",
            "\u001b[1m220/220\u001b[0m \u001b[32m━━━━━━━━━━━━━━━━━━━━\u001b[0m\u001b[37m\u001b[0m \u001b[1m1s\u001b[0m 4ms/step - accuracy: 0.3169 - loss: 1.6366 - val_accuracy: 0.5393 - val_loss: 1.4864\n",
            "Epoch 13/20\n",
            "\u001b[1m220/220\u001b[0m \u001b[32m━━━━━━━━━━━━━━━━━━━━\u001b[0m\u001b[37m\u001b[0m \u001b[1m1s\u001b[0m 4ms/step - accuracy: 0.3604 - loss: 1.5620 - val_accuracy: 0.5256 - val_loss: 1.3774\n",
            "Epoch 14/20\n",
            "\u001b[1m220/220\u001b[0m \u001b[32m━━━━━━━━━━━━━━━━━━━━\u001b[0m\u001b[37m\u001b[0m \u001b[1m1s\u001b[0m 5ms/step - accuracy: 0.3856 - loss: 1.5031 - val_accuracy: 0.5256 - val_loss: 1.3020\n",
            "Epoch 15/20\n",
            "\u001b[1m220/220\u001b[0m \u001b[32m━━━━━━━━━━━━━━━━━━━━\u001b[0m\u001b[37m\u001b[0m \u001b[1m1s\u001b[0m 3ms/step - accuracy: 0.3929 - loss: 1.4500 - val_accuracy: 0.4596 - val_loss: 1.2567\n",
            "Epoch 16/20\n",
            "\u001b[1m220/220\u001b[0m \u001b[32m━━━━━━━━━━━━━━━━━━━━\u001b[0m\u001b[37m\u001b[0m \u001b[1m1s\u001b[0m 3ms/step - accuracy: 0.3940 - loss: 1.4132 - val_accuracy: 0.6042 - val_loss: 1.1995\n",
            "Epoch 17/20\n",
            "\u001b[1m220/220\u001b[0m \u001b[32m━━━━━━━━━━━━━━━━━━━━\u001b[0m\u001b[37m\u001b[0m \u001b[1m1s\u001b[0m 3ms/step - accuracy: 0.4883 - loss: 1.3752 - val_accuracy: 0.6723 - val_loss: 1.1637\n",
            "Epoch 18/20\n",
            "\u001b[1m220/220\u001b[0m \u001b[32m━━━━━━━━━━━━━━━━━━━━\u001b[0m\u001b[37m\u001b[0m \u001b[1m1s\u001b[0m 3ms/step - accuracy: 0.5107 - loss: 1.3588 - val_accuracy: 0.6723 - val_loss: 1.0872\n",
            "Epoch 19/20\n",
            "\u001b[1m220/220\u001b[0m \u001b[32m━━━━━━━━━━━━━━━━━━━━\u001b[0m\u001b[37m\u001b[0m \u001b[1m1s\u001b[0m 4ms/step - accuracy: 0.5221 - loss: 1.3325 - val_accuracy: 0.7383 - val_loss: 1.0177\n",
            "Epoch 20/20\n",
            "\u001b[1m220/220\u001b[0m \u001b[32m━━━━━━━━━━━━━━━━━━━━\u001b[0m\u001b[37m\u001b[0m \u001b[1m1s\u001b[0m 4ms/step - accuracy: 0.5229 - loss: 1.2877 - val_accuracy: 0.6723 - val_loss: 0.9301\n"
          ]
        }
      ],
      "source": [
        "# Training the model\n",
        "history = model.fit(X_train, y_train, epochs=20, batch_size=64, validation_split=0.2, verbose=1)"
      ]
    },
    {
      "cell_type": "code",
      "execution_count": null,
      "metadata": {
        "id": "HtJ_6DuVHYDC"
      },
      "outputs": [],
      "source": [
        "# Evaluating the model on the test set\n",
        "test_loss, test_accuracy = model.evaluate(X_test, y_test, verbose=0)"
      ]
    },
    {
      "cell_type": "code",
      "execution_count": null,
      "metadata": {
        "colab": {
          "base_uri": "https://localhost:8080/"
        },
        "id": "En6A48QRHcI6",
        "outputId": "8b09503c-15df-4891-b746-858dbf13d169"
      },
      "outputs": [
        {
          "name": "stdout",
          "output_type": "stream",
          "text": [
            "\u001b[1m236/236\u001b[0m \u001b[32m━━━━━━━━━━━━━━━━━━━━\u001b[0m\u001b[37m\u001b[0m \u001b[1m0s\u001b[0m 949us/step\n"
          ]
        }
      ],
      "source": [
        "# Getting predictions\n",
        "y_pred = model.predict(X_test)\n",
        "y_pred_classes = y_pred.argmax(axis=1)"
      ]
    },
    {
      "cell_type": "code",
      "execution_count": null,
      "metadata": {
        "colab": {
          "base_uri": "https://localhost:8080/"
        },
        "id": "zbNm3lv3Hgm4",
        "outputId": "20b2de79-7fc5-41c9-f323-821f85c276d0"
      },
      "outputs": [
        {
          "name": "stdout",
          "output_type": "stream",
          "text": [
            "Accuracy =  66.24135971069336\n",
            "Precision =  60.415087236949596\n",
            "Recall =  66.24136097820308\n"
          ]
        },
        {
          "name": "stderr",
          "output_type": "stream",
          "text": [
            "/usr/local/lib/python3.11/dist-packages/sklearn/metrics/_classification.py:1565: UndefinedMetricWarning: Precision is ill-defined and being set to 0.0 in labels with no predicted samples. Use `zero_division` parameter to control this behavior.\n",
            "  _warn_prf(average, modifier, f\"{metric.capitalize()} is\", len(result))\n"
          ]
        }
      ],
      "source": [
        "from sklearn.metrics import precision_score, recall_score\n",
        "\n",
        "# Calculating metrics\n",
        "precision = precision_score(y_test, y_pred_classes, average=\"weighted\") * 100\n",
        "recall = recall_score(y_test, y_pred_classes, average=\"weighted\") * 100\n",
        "accuracy = test_accuracy * 100\n",
        "\n",
        "# Displaying metrics\n",
        "print(\"Accuracy = \", accuracy)\n",
        "print(\"Precision = \", precision)\n",
        "print(\"Recall = \", recall)"
      ]
    },
    {
      "cell_type": "code",
      "execution_count": null,
      "metadata": {
        "colab": {
          "base_uri": "https://localhost:8080/"
        },
        "id": "pIIhf41CHpMl",
        "outputId": "b647bc39-7b94-4c09-a417-80de93cec6c2"
      },
      "outputs": [
        {
          "name": "stdout",
          "output_type": "stream",
          "text": [
            "\u001b[1m236/236\u001b[0m \u001b[32m━━━━━━━━━━━━━━━━━━━━\u001b[0m\u001b[37m\u001b[0m \u001b[1m0s\u001b[0m 878us/step\n",
            "Confusion Matrix:\n",
            "[[   0    0    0    0 1001    0]\n",
            " [   0  513    0    0  511    0]\n",
            " [   0    0    0    0 1028    0]\n",
            " [   0    0    0 1492    0    0]\n",
            " [   0    0    0    0 1516    0]\n",
            " [   0    0    0    0    0 1463]]\n"
          ]
        }
      ],
      "source": [
        "# Calculating the confusion matrix\n",
        "y_pred = model.predict(X_test)\n",
        "y_pred_classes = y_pred.argmax(axis=1)  # Converting predicted probabilities to class labels\n",
        "\n",
        "conf_matrix_dl = confusion_matrix(y_test, y_pred_classes)\n",
        "\n",
        "# Printing the confusion matrix\n",
        "print(\"Confusion Matrix:\")\n",
        "print(conf_matrix_dl)"
      ]
    },
    {
      "cell_type": "markdown",
      "metadata": {
        "id": "UyD77EaAE2_F"
      },
      "source": [
        "#Camparison"
      ]
    },
    {
      "cell_type": "markdown",
      "metadata": {
        "id": "gutzQx5uE64B"
      },
      "source": [
        "#Conclusion\n",
        "The data was collected from the Agriculture Lab on plants that grow in an IoT greenhouse and a Traditional greenhouse. Having a classifier can help people majoring in IoT evaluate the quality of the IoT greenhouse and whether it is more efficient to use IoT greenhouses instead of traditional greenhouses. That information can help us understand the drawbacks of IoT greenhouses and develop them to be used in a wider range."
      ]
    },
    {
      "cell_type": "markdown",
      "metadata": {
        "id": "c0WSz-voE_vH"
      },
      "source": [
        "#Failure Cases and Limitations"
      ]
    }
  ],
  "metadata": {
    "colab": {
      "provenance": [],
      "include_colab_link": true
    },
    "kernelspec": {
      "display_name": "Python 3",
      "name": "python3"
    },
    "language_info": {
      "name": "python"
    }
  },
  "nbformat": 4,
  "nbformat_minor": 0
}